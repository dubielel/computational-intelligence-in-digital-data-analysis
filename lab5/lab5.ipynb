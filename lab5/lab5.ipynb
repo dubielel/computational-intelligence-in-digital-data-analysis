{
 "cells": [
  {
   "cell_type": "markdown",
   "metadata": {},
   "source": [
    "# Laboratorium 5 – Przestrzenie ciągłe\n",
    "\n",
    "## Autorzy\n",
    "- Kacper Cienkosz\n",
    "- Miłosz Dubiel"
   ]
  },
  {
   "cell_type": "code",
   "execution_count": 22,
   "metadata": {
    "ExecuteTime": {
     "end_time": "2024-05-13T06:27:24.009920Z",
     "start_time": "2024-05-13T06:27:22.503143Z"
    }
   },
   "outputs": [
    {
     "name": "stdout",
     "output_type": "stream",
     "text": [
      "Requirement already satisfied: gymnasium[classic_control] in /Users/kacper/.local/share/virtualenvs/lab5-5074mnsZ/lib/python3.11/site-packages (0.29.1)\r\n",
      "Requirement already satisfied: numpy>=1.21.0 in /Users/kacper/.local/share/virtualenvs/lab5-5074mnsZ/lib/python3.11/site-packages (from gymnasium[classic_control]) (1.26.4)\r\n",
      "Requirement already satisfied: cloudpickle>=1.2.0 in /Users/kacper/.local/share/virtualenvs/lab5-5074mnsZ/lib/python3.11/site-packages (from gymnasium[classic_control]) (3.0.0)\r\n",
      "Requirement already satisfied: typing-extensions>=4.3.0 in /Users/kacper/.local/share/virtualenvs/lab5-5074mnsZ/lib/python3.11/site-packages (from gymnasium[classic_control]) (4.11.0)\r\n",
      "Requirement already satisfied: farama-notifications>=0.0.1 in /Users/kacper/.local/share/virtualenvs/lab5-5074mnsZ/lib/python3.11/site-packages (from gymnasium[classic_control]) (0.0.4)\r\n",
      "Requirement already satisfied: pygame>=2.1.3 in /Users/kacper/.local/share/virtualenvs/lab5-5074mnsZ/lib/python3.11/site-packages (from gymnasium[classic_control]) (2.5.2)\r\n",
      "Note: you may need to restart the kernel to use updated packages.\n"
     ]
    }
   ],
   "source": [
    "%pip install 'gymnasium[classic_control]'"
   ]
  },
  {
   "cell_type": "code",
   "execution_count": 81,
   "metadata": {
    "ExecuteTime": {
     "end_time": "2024-05-13T07:17:27.767644Z",
     "start_time": "2024-05-13T07:17:27.764694Z"
    }
   },
   "outputs": [],
   "source": [
    "import numpy as np\n",
    "import matplotlib.pyplot as plt\n",
    "\n",
    "import gymnasium as gym\n",
    "\n",
    "from stable_baselines3 import A2C, TD3\n",
    "from stable_baselines3.common.env_util import make_vec_env"
   ]
  },
  {
   "cell_type": "code",
   "execution_count": 58,
   "metadata": {
    "collapsed": false,
    "ExecuteTime": {
     "end_time": "2024-05-13T06:57:11.263932Z",
     "start_time": "2024-05-13T06:57:11.261796Z"
    }
   },
   "outputs": [],
   "source": [
    "hyperparameters1 = {\n",
    "    'learning_rate': 0.001,\n",
    "    'gamma': 0.99,\n",
    "    'rms_prop_eps': 1e-5,\n",
    "}"
   ]
  },
  {
   "cell_type": "code",
   "outputs": [],
   "source": [],
   "metadata": {
    "collapsed": false
   }
  },
  {
   "cell_type": "code",
   "execution_count": 25,
   "metadata": {
    "ExecuteTime": {
     "end_time": "2024-05-13T06:27:24.030985Z",
     "start_time": "2024-05-13T06:27:24.019922Z"
    }
   },
   "outputs": [
    {
     "name": "stdout",
     "output_type": "stream",
     "text": [
      "Using cpu device\n"
     ]
    }
   ],
   "source": [
    "vec_env1 = make_vec_env(\"MountainCarContinuous-v0\", n_envs=10)\n",
    "model1 = A2C(\"MlpPolicy\", vec_env1, verbose=1, **hyperparameters1)"
   ]
  },
  {
   "cell_type": "code",
   "outputs": [],
   "source": [
    "model1.learn(total_timesteps=500000)"
   ],
   "metadata": {
    "collapsed": false
   }
  },
  {
   "cell_type": "code",
   "execution_count": 64,
   "metadata": {
    "collapsed": false,
    "ExecuteTime": {
     "end_time": "2024-05-13T06:59:05.029539Z",
     "start_time": "2024-05-13T06:59:05.025846Z"
    }
   },
   "outputs": [],
   "source": [
    "env2 = make_vec_env(\"MountainCarContinuous-v0\", n_envs=1)"
   ]
  },
  {
   "cell_type": "code",
   "outputs": [
    {
     "name": "stdout",
     "output_type": "stream",
     "text": [
      "Using cpu device\n"
     ]
    }
   ],
   "source": [
    "model2 = A2C(\"MlpPolicy\", env2, verbose=1)"
   ],
   "metadata": {
    "collapsed": false,
    "ExecuteTime": {
     "end_time": "2024-05-13T06:59:05.361923Z",
     "start_time": "2024-05-13T06:59:05.355774Z"
    }
   },
   "execution_count": 65
  },
  {
   "cell_type": "code",
   "outputs": [],
   "source": [],
   "metadata": {
    "collapsed": false
   }
  },
  {
   "cell_type": "code",
   "execution_count": 52,
   "metadata": {
    "collapsed": false,
    "ExecuteTime": {
     "end_time": "2024-05-13T06:54:45.575256Z",
     "start_time": "2024-05-13T06:54:45.447716Z"
    }
   },
   "outputs": [],
   "source": [
    "def evaluate_model(model, env, n_eval_episodes=10):\n",
    "    rewards = []\n",
    "\n",
    "    for _ in range(n_eval_episodes):\n",
    "        obs = env.reset()\n",
    "        episode_reward = 0\n",
    "\n",
    "        while True:\n",
    "            action, _ = model.predict(obs, deterministic=True)\n",
    "            obs, reward, done, _ = env.step(action)\n",
    "            episode_reward += reward\n",
    "\n",
    "            if done:\n",
    "                break\n",
    "\n",
    "        rewards.append(episode_reward)\n",
    "\n",
    "    mean_reward = np.mean(rewards)\n",
    "    std_reward = np.std(rewards)\n",
    "\n",
    "    return mean_reward, std_reward"
   ]
  },
  {
   "cell_type": "code",
   "outputs": [],
   "source": [
    "import numpy as np\n",
    "import matplotlib.pyplot as plt\n",
    "\n",
    "# Zdefiniuj zestawy hiperparametrów\n",
    "hyperparameters_sets = [\n",
    "    {'learning_rate': 0.001, 'gamma': 0.99, 'rms_prop_eps': 1e-5},\n",
    "    {'learning_rate': 0.01, 'gamma': 0.95, 'rms_prop_eps': 1e-6},\n",
    "    {'learning_rate': 0.001, 'gamma': 0.90, 'rms_prop_eps': 1e-7},\n",
    "]\n",
    "\n",
    "results = []\n",
    "\n",
    "# Dla każdego zestawu hiperparametrów\n",
    "for i, hyperparameters in enumerate(hyperparameters_sets):\n",
    "    # Trenuj model\n",
    "    model = A2C(\"MlpPolicy\", env2, verbose=1, **hyperparameters)\n",
    "    model.learn(total_timesteps=50000)\n",
    "\n",
    "    # Oceń model\n",
    "    mean_reward, std_reward = evaluate_model(model, env2, n_eval_episodes=10)\n",
    "\n",
    "    # Zapisz wyniki\n",
    "    results.append((mean_reward, std_reward))\n",
    "\n",
    "# Rysuj krzywe uczenia\n",
    "plt.figure(figsize=(10, 6))\n",
    "\n",
    "for i, (mean_reward, std_reward) in enumerate(results):\n",
    "    plt.plot(mean_reward, label=f'Set {i+1}')\n",
    "    plt.fill_between(np.arange(len(mean_reward)), mean_reward - std_reward, mean_reward + std_reward, alpha=0.3)\n",
    "\n",
    "plt.xlabel(\"Timesteps\")\n",
    "plt.ylabel(\"Reward\")\n",
    "plt.legend()\n",
    "plt.show()"
   ],
   "metadata": {
    "collapsed": false,
    "ExecuteTime": {
     "end_time": "2024-05-13T06:54:47.239038Z",
     "start_time": "2024-05-13T06:54:47.237302Z"
    }
   },
   "execution_count": 52
  },
  {
   "cell_type": "code",
   "execution_count": 55,
   "metadata": {
    "collapsed": false,
    "ExecuteTime": {
     "end_time": "2024-05-13T06:55:28.859573Z",
     "start_time": "2024-05-13T06:55:28.856372Z"
    }
   },
   "outputs": [
    {
     "data": {
      "text/plain": "ActorCriticPolicy(\n  (features_extractor): FlattenExtractor(\n    (flatten): Flatten(start_dim=1, end_dim=-1)\n  )\n  (pi_features_extractor): FlattenExtractor(\n    (flatten): Flatten(start_dim=1, end_dim=-1)\n  )\n  (vf_features_extractor): FlattenExtractor(\n    (flatten): Flatten(start_dim=1, end_dim=-1)\n  )\n  (mlp_extractor): MlpExtractor(\n    (policy_net): Sequential(\n      (0): Linear(in_features=2, out_features=64, bias=True)\n      (1): Tanh()\n      (2): Linear(in_features=64, out_features=64, bias=True)\n      (3): Tanh()\n    )\n    (value_net): Sequential(\n      (0): Linear(in_features=2, out_features=64, bias=True)\n      (1): Tanh()\n      (2): Linear(in_features=64, out_features=64, bias=True)\n      (3): Tanh()\n    )\n  )\n  (action_net): Linear(in_features=64, out_features=1, bias=True)\n  (value_net): Linear(in_features=64, out_features=1, bias=True)\n)"
     },
     "execution_count": 55,
     "metadata": {},
     "output_type": "execute_result"
    }
   ],
   "source": []
  },
  {
   "cell_type": "code",
   "execution_count": 54,
   "metadata": {
    "collapsed": false,
    "ExecuteTime": {
     "end_time": "2024-05-13T06:54:48.408749Z",
     "start_time": "2024-05-13T06:54:48.312130Z"
    }
   },
   "outputs": [
    {
     "data": {
      "text/plain": "Text(0, 0.5, 'Reward')"
     },
     "execution_count": 54,
     "metadata": {},
     "output_type": "execute_result"
    },
    {
     "data": {
      "text/plain": "<Figure size 640x480 with 1 Axes>",
      "image/png": "[encoded data removed]"
     },
     "metadata": {},
     "output_type": "display_data"
    }
   ],
   "source": [
    "plt.plot(evaluation[0])\n",
    "plt.fill_between(\n",
    "    np.arange(len(evaluation[0])),\n",
    "    evaluation[0] - evaluation[1],\n",
    "    evaluation[0] + evaluation[1],\n",
    "    alpha=0.3\n",
    ")\n",
    "plt.xlabel(\"Episodes\")\n",
    "plt.ylabel(\"Reward\")"
   ]
  },
  {
   "cell_type": "code",
   "execution_count": 36,
   "metadata": {
    "collapsed": false,
    "ExecuteTime": {
     "end_time": "2024-05-13T06:29:05.163819Z",
     "start_time": "2024-05-13T06:29:05.149553Z"
    }
   },
   "outputs": [
    {
     "ename": "NameError",
     "evalue": "name 'plot_results' is not defined",
     "output_type": "error",
     "traceback": [
      "\u001B[0;31m---------------------------------------------------------------------------\u001B[0m",
      "\u001B[0;31mNameError\u001B[0m                                 Traceback (most recent call last)",
      "Cell \u001B[0;32mIn[36], line 1\u001B[0m\n\u001B[0;32m----> 1\u001B[0m \u001B[43mplot_results\u001B[49m(model1, vec_env1)\n",
      "\u001B[0;31mNameError\u001B[0m: name 'plot_results' is not defined"
     ]
    }
   ],
   "source": [
    "plot_results(model1, vec_env1)"
   ]
  },
  {
   "cell_type": "markdown",
   "metadata": {
    "collapsed": false
   },
   "source": []
  },
  {
   "cell_type": "code",
   "execution_count": 47,
   "metadata": {
    "collapsed": false,
    "ExecuteTime": {
     "end_time": "2024-05-13T06:39:40.470713Z",
     "start_time": "2024-05-13T06:39:29.667350Z"
    }
   },
   "outputs": [
    {
     "ename": "KeyboardInterrupt",
     "evalue": "",
     "output_type": "error",
     "traceback": [
      "\u001B[0;31m---------------------------------------------------------------------------\u001B[0m",
      "\u001B[0;31mKeyboardInterrupt\u001B[0m                         Traceback (most recent call last)",
      "Cell \u001B[0;32mIn[47], line 5\u001B[0m\n\u001B[1;32m      3\u001B[0m action, _states \u001B[38;5;241m=\u001B[39m model1\u001B[38;5;241m.\u001B[39mpredict(obs)\n\u001B[1;32m      4\u001B[0m obs, rewards, dones, info \u001B[38;5;241m=\u001B[39m vec_env1\u001B[38;5;241m.\u001B[39mstep(action)\n\u001B[0;32m----> 5\u001B[0m \u001B[43mvec_env1\u001B[49m\u001B[38;5;241;43m.\u001B[39;49m\u001B[43mrender\u001B[49m\u001B[43m(\u001B[49m\u001B[38;5;124;43m\"\u001B[39;49m\u001B[38;5;124;43mhuman\u001B[39;49m\u001B[38;5;124;43m\"\u001B[39;49m\u001B[43m)\u001B[49m\n",
      "File \u001B[0;32m~/.local/share/virtualenvs/lab5-5074mnsZ/lib/python3.11/site-packages/stable_baselines3/common/vec_env/dummy_vec_env.py:103\u001B[0m, in \u001B[0;36mDummyVecEnv.render\u001B[0;34m(self, mode)\u001B[0m\n\u001B[1;32m     96\u001B[0m \u001B[38;5;28;01mdef\u001B[39;00m \u001B[38;5;21mrender\u001B[39m(\u001B[38;5;28mself\u001B[39m, mode: Optional[\u001B[38;5;28mstr\u001B[39m] \u001B[38;5;241m=\u001B[39m \u001B[38;5;28;01mNone\u001B[39;00m) \u001B[38;5;241m-\u001B[39m\u001B[38;5;241m>\u001B[39m Optional[np\u001B[38;5;241m.\u001B[39mndarray]:\n\u001B[1;32m     97\u001B[0m \u001B[38;5;250m    \u001B[39m\u001B[38;5;124;03m\"\"\"\u001B[39;00m\n\u001B[1;32m     98\u001B[0m \u001B[38;5;124;03m    Gym environment rendering. If there are multiple environments then\u001B[39;00m\n\u001B[1;32m     99\u001B[0m \u001B[38;5;124;03m    they are tiled together in one image via ``BaseVecEnv.render()``.\u001B[39;00m\n\u001B[1;32m    100\u001B[0m \n\u001B[1;32m    101\u001B[0m \u001B[38;5;124;03m    :param mode: The rendering type.\u001B[39;00m\n\u001B[1;32m    102\u001B[0m \u001B[38;5;124;03m    \"\"\"\u001B[39;00m\n\u001B[0;32m--> 103\u001B[0m     \u001B[38;5;28;01mreturn\u001B[39;00m \u001B[38;5;28;43msuper\u001B[39;49m\u001B[43m(\u001B[49m\u001B[43m)\u001B[49m\u001B[38;5;241;43m.\u001B[39;49m\u001B[43mrender\u001B[49m\u001B[43m(\u001B[49m\u001B[43mmode\u001B[49m\u001B[38;5;241;43m=\u001B[39;49m\u001B[43mmode\u001B[49m\u001B[43m)\u001B[49m\n",
      "File \u001B[0;32m~/.local/share/virtualenvs/lab5-5074mnsZ/lib/python3.11/site-packages/stable_baselines3/common/vec_env/base_vec_env.py:255\u001B[0m, in \u001B[0;36mVecEnv.render\u001B[0;34m(self, mode)\u001B[0m\n\u001B[1;32m    251\u001B[0m     \u001B[38;5;28;01mreturn\u001B[39;00m \u001B[38;5;28;01mNone\u001B[39;00m\n\u001B[1;32m    253\u001B[0m \u001B[38;5;28;01mif\u001B[39;00m mode \u001B[38;5;241m==\u001B[39m \u001B[38;5;124m\"\u001B[39m\u001B[38;5;124mrgb_array\u001B[39m\u001B[38;5;124m\"\u001B[39m \u001B[38;5;129;01mor\u001B[39;00m mode \u001B[38;5;241m==\u001B[39m \u001B[38;5;124m\"\u001B[39m\u001B[38;5;124mhuman\u001B[39m\u001B[38;5;124m\"\u001B[39m:\n\u001B[1;32m    254\u001B[0m     \u001B[38;5;66;03m# call the render method of the environments\u001B[39;00m\n\u001B[0;32m--> 255\u001B[0m     images \u001B[38;5;241m=\u001B[39m \u001B[38;5;28;43mself\u001B[39;49m\u001B[38;5;241;43m.\u001B[39;49m\u001B[43mget_images\u001B[49m\u001B[43m(\u001B[49m\u001B[43m)\u001B[49m\n\u001B[1;32m    256\u001B[0m     \u001B[38;5;66;03m# Create a big image by tiling images from subprocesses\u001B[39;00m\n\u001B[1;32m    257\u001B[0m     bigimg \u001B[38;5;241m=\u001B[39m tile_images(images)  \u001B[38;5;66;03m# type: ignore[arg-type]\u001B[39;00m\n",
      "File \u001B[0;32m~/.local/share/virtualenvs/lab5-5074mnsZ/lib/python3.11/site-packages/stable_baselines3/common/vec_env/dummy_vec_env.py:94\u001B[0m, in \u001B[0;36mDummyVecEnv.get_images\u001B[0;34m(self)\u001B[0m\n\u001B[1;32m     90\u001B[0m     warnings\u001B[38;5;241m.\u001B[39mwarn(\n\u001B[1;32m     91\u001B[0m         \u001B[38;5;124mf\u001B[39m\u001B[38;5;124m\"\u001B[39m\u001B[38;5;124mThe render mode is \u001B[39m\u001B[38;5;132;01m{\u001B[39;00m\u001B[38;5;28mself\u001B[39m\u001B[38;5;241m.\u001B[39mrender_mode\u001B[38;5;132;01m}\u001B[39;00m\u001B[38;5;124m, but this method assumes it is `rgb_array` to obtain images.\u001B[39m\u001B[38;5;124m\"\u001B[39m\n\u001B[1;32m     92\u001B[0m     )\n\u001B[1;32m     93\u001B[0m     \u001B[38;5;28;01mreturn\u001B[39;00m [\u001B[38;5;28;01mNone\u001B[39;00m \u001B[38;5;28;01mfor\u001B[39;00m _ \u001B[38;5;129;01min\u001B[39;00m \u001B[38;5;28mself\u001B[39m\u001B[38;5;241m.\u001B[39menvs]\n\u001B[0;32m---> 94\u001B[0m \u001B[38;5;28;01mreturn\u001B[39;00m \u001B[43m[\u001B[49m\u001B[43menv\u001B[49m\u001B[38;5;241;43m.\u001B[39;49m\u001B[43mrender\u001B[49m\u001B[43m(\u001B[49m\u001B[43m)\u001B[49m\u001B[43m \u001B[49m\u001B[38;5;28;43;01mfor\u001B[39;49;00m\u001B[43m \u001B[49m\u001B[43menv\u001B[49m\u001B[43m \u001B[49m\u001B[38;5;129;43;01min\u001B[39;49;00m\u001B[43m \u001B[49m\u001B[38;5;28;43mself\u001B[39;49m\u001B[38;5;241;43m.\u001B[39;49m\u001B[43menvs\u001B[49m\u001B[43m]\u001B[49m\n",
      "File \u001B[0;32m~/.local/share/virtualenvs/lab5-5074mnsZ/lib/python3.11/site-packages/stable_baselines3/common/vec_env/dummy_vec_env.py:94\u001B[0m, in \u001B[0;36m<listcomp>\u001B[0;34m(.0)\u001B[0m\n\u001B[1;32m     90\u001B[0m     warnings\u001B[38;5;241m.\u001B[39mwarn(\n\u001B[1;32m     91\u001B[0m         \u001B[38;5;124mf\u001B[39m\u001B[38;5;124m\"\u001B[39m\u001B[38;5;124mThe render mode is \u001B[39m\u001B[38;5;132;01m{\u001B[39;00m\u001B[38;5;28mself\u001B[39m\u001B[38;5;241m.\u001B[39mrender_mode\u001B[38;5;132;01m}\u001B[39;00m\u001B[38;5;124m, but this method assumes it is `rgb_array` to obtain images.\u001B[39m\u001B[38;5;124m\"\u001B[39m\n\u001B[1;32m     92\u001B[0m     )\n\u001B[1;32m     93\u001B[0m     \u001B[38;5;28;01mreturn\u001B[39;00m [\u001B[38;5;28;01mNone\u001B[39;00m \u001B[38;5;28;01mfor\u001B[39;00m _ \u001B[38;5;129;01min\u001B[39;00m \u001B[38;5;28mself\u001B[39m\u001B[38;5;241m.\u001B[39menvs]\n\u001B[0;32m---> 94\u001B[0m \u001B[38;5;28;01mreturn\u001B[39;00m [\u001B[43menv\u001B[49m\u001B[38;5;241;43m.\u001B[39;49m\u001B[43mrender\u001B[49m\u001B[43m(\u001B[49m\u001B[43m)\u001B[49m \u001B[38;5;28;01mfor\u001B[39;00m env \u001B[38;5;129;01min\u001B[39;00m \u001B[38;5;28mself\u001B[39m\u001B[38;5;241m.\u001B[39menvs]\n",
      "File \u001B[0;32m~/.local/share/virtualenvs/lab5-5074mnsZ/lib/python3.11/site-packages/gymnasium/core.py:471\u001B[0m, in \u001B[0;36mWrapper.render\u001B[0;34m(self)\u001B[0m\n\u001B[1;32m    469\u001B[0m \u001B[38;5;28;01mdef\u001B[39;00m \u001B[38;5;21mrender\u001B[39m(\u001B[38;5;28mself\u001B[39m) \u001B[38;5;241m-\u001B[39m\u001B[38;5;241m>\u001B[39m RenderFrame \u001B[38;5;241m|\u001B[39m \u001B[38;5;28mlist\u001B[39m[RenderFrame] \u001B[38;5;241m|\u001B[39m \u001B[38;5;28;01mNone\u001B[39;00m:\n\u001B[1;32m    470\u001B[0m \u001B[38;5;250m    \u001B[39m\u001B[38;5;124;03m\"\"\"Uses the :meth:`render` of the :attr:`env` that can be overwritten to change the returned data.\"\"\"\u001B[39;00m\n\u001B[0;32m--> 471\u001B[0m     \u001B[38;5;28;01mreturn\u001B[39;00m \u001B[38;5;28;43mself\u001B[39;49m\u001B[38;5;241;43m.\u001B[39;49m\u001B[43menv\u001B[49m\u001B[38;5;241;43m.\u001B[39;49m\u001B[43mrender\u001B[49m\u001B[43m(\u001B[49m\u001B[43m)\u001B[49m\n",
      "File \u001B[0;32m~/.local/share/virtualenvs/lab5-5074mnsZ/lib/python3.11/site-packages/gymnasium/core.py:471\u001B[0m, in \u001B[0;36mWrapper.render\u001B[0;34m(self)\u001B[0m\n\u001B[1;32m    469\u001B[0m \u001B[38;5;28;01mdef\u001B[39;00m \u001B[38;5;21mrender\u001B[39m(\u001B[38;5;28mself\u001B[39m) \u001B[38;5;241m-\u001B[39m\u001B[38;5;241m>\u001B[39m RenderFrame \u001B[38;5;241m|\u001B[39m \u001B[38;5;28mlist\u001B[39m[RenderFrame] \u001B[38;5;241m|\u001B[39m \u001B[38;5;28;01mNone\u001B[39;00m:\n\u001B[1;32m    470\u001B[0m \u001B[38;5;250m    \u001B[39m\u001B[38;5;124;03m\"\"\"Uses the :meth:`render` of the :attr:`env` that can be overwritten to change the returned data.\"\"\"\u001B[39;00m\n\u001B[0;32m--> 471\u001B[0m     \u001B[38;5;28;01mreturn\u001B[39;00m \u001B[38;5;28;43mself\u001B[39;49m\u001B[38;5;241;43m.\u001B[39;49m\u001B[43menv\u001B[49m\u001B[38;5;241;43m.\u001B[39;49m\u001B[43mrender\u001B[49m\u001B[43m(\u001B[49m\u001B[43m)\u001B[49m\n",
      "File \u001B[0;32m~/.local/share/virtualenvs/lab5-5074mnsZ/lib/python3.11/site-packages/gymnasium/wrappers/order_enforcing.py:70\u001B[0m, in \u001B[0;36mOrderEnforcing.render\u001B[0;34m(self, *args, **kwargs)\u001B[0m\n\u001B[1;32m     65\u001B[0m \u001B[38;5;28;01mif\u001B[39;00m \u001B[38;5;129;01mnot\u001B[39;00m \u001B[38;5;28mself\u001B[39m\u001B[38;5;241m.\u001B[39m_disable_render_order_enforcing \u001B[38;5;129;01mand\u001B[39;00m \u001B[38;5;129;01mnot\u001B[39;00m \u001B[38;5;28mself\u001B[39m\u001B[38;5;241m.\u001B[39m_has_reset:\n\u001B[1;32m     66\u001B[0m     \u001B[38;5;28;01mraise\u001B[39;00m ResetNeeded(\n\u001B[1;32m     67\u001B[0m         \u001B[38;5;124m\"\u001B[39m\u001B[38;5;124mCannot call `env.render()` before calling `env.reset()`, if this is a intended action, \u001B[39m\u001B[38;5;124m\"\u001B[39m\n\u001B[1;32m     68\u001B[0m         \u001B[38;5;124m\"\u001B[39m\u001B[38;5;124mset `disable_render_order_enforcing=True` on the OrderEnforcer wrapper.\u001B[39m\u001B[38;5;124m\"\u001B[39m\n\u001B[1;32m     69\u001B[0m     )\n\u001B[0;32m---> 70\u001B[0m \u001B[38;5;28;01mreturn\u001B[39;00m \u001B[38;5;28;43mself\u001B[39;49m\u001B[38;5;241;43m.\u001B[39;49m\u001B[43menv\u001B[49m\u001B[38;5;241;43m.\u001B[39;49m\u001B[43mrender\u001B[49m\u001B[43m(\u001B[49m\u001B[38;5;241;43m*\u001B[39;49m\u001B[43margs\u001B[49m\u001B[43m,\u001B[49m\u001B[43m \u001B[49m\u001B[38;5;241;43m*\u001B[39;49m\u001B[38;5;241;43m*\u001B[39;49m\u001B[43mkwargs\u001B[49m\u001B[43m)\u001B[49m\n",
      "File \u001B[0;32m~/.local/share/virtualenvs/lab5-5074mnsZ/lib/python3.11/site-packages/gymnasium/wrappers/env_checker.py:67\u001B[0m, in \u001B[0;36mPassiveEnvChecker.render\u001B[0;34m(self, *args, **kwargs)\u001B[0m\n\u001B[1;32m     65\u001B[0m     \u001B[38;5;28;01mreturn\u001B[39;00m env_render_passive_checker(\u001B[38;5;28mself\u001B[39m\u001B[38;5;241m.\u001B[39menv, \u001B[38;5;241m*\u001B[39margs, \u001B[38;5;241m*\u001B[39m\u001B[38;5;241m*\u001B[39mkwargs)\n\u001B[1;32m     66\u001B[0m \u001B[38;5;28;01melse\u001B[39;00m:\n\u001B[0;32m---> 67\u001B[0m     \u001B[38;5;28;01mreturn\u001B[39;00m \u001B[38;5;28;43mself\u001B[39;49m\u001B[38;5;241;43m.\u001B[39;49m\u001B[43menv\u001B[49m\u001B[38;5;241;43m.\u001B[39;49m\u001B[43mrender\u001B[49m\u001B[43m(\u001B[49m\u001B[38;5;241;43m*\u001B[39;49m\u001B[43margs\u001B[49m\u001B[43m,\u001B[49m\u001B[43m \u001B[49m\u001B[38;5;241;43m*\u001B[39;49m\u001B[38;5;241;43m*\u001B[39;49m\u001B[43mkwargs\u001B[49m\u001B[43m)\u001B[49m\n",
      "File \u001B[0;32m~/.local/share/virtualenvs/lab5-5074mnsZ/lib/python3.11/site-packages/gymnasium/envs/classic_control/continuous_mountain_car.py:295\u001B[0m, in \u001B[0;36mContinuous_MountainCarEnv.render\u001B[0;34m(self)\u001B[0m\n\u001B[1;32m    291\u001B[0m     pygame\u001B[38;5;241m.\u001B[39mdisplay\u001B[38;5;241m.\u001B[39mflip()\n\u001B[1;32m    293\u001B[0m \u001B[38;5;28;01melif\u001B[39;00m \u001B[38;5;28mself\u001B[39m\u001B[38;5;241m.\u001B[39mrender_mode \u001B[38;5;241m==\u001B[39m \u001B[38;5;124m\"\u001B[39m\u001B[38;5;124mrgb_array\u001B[39m\u001B[38;5;124m\"\u001B[39m:\n\u001B[1;32m    294\u001B[0m     \u001B[38;5;28;01mreturn\u001B[39;00m np\u001B[38;5;241m.\u001B[39mtranspose(\n\u001B[0;32m--> 295\u001B[0m         np\u001B[38;5;241m.\u001B[39marray(pygame\u001B[38;5;241m.\u001B[39msurfarray\u001B[38;5;241m.\u001B[39mpixels3d(\u001B[38;5;28mself\u001B[39m\u001B[38;5;241m.\u001B[39mscreen)), axes\u001B[38;5;241m=\u001B[39m(\u001B[38;5;241m1\u001B[39m, \u001B[38;5;241m0\u001B[39m, \u001B[38;5;241m2\u001B[39m)\n\u001B[1;32m    296\u001B[0m     )\n",
      "\u001B[0;31mKeyboardInterrupt\u001B[0m: "
     ]
    }
   ],
   "source": [
    "obs = vec_env1.reset()\n",
    "while True:\n",
    "    action, _states = model1.predict(obs)\n",
    "    obs, rewards, dones, info = vec_env1.step(action)\n",
    "    vec_env1.render(\"human\")"
   ]
  },
  {
   "cell_type": "code",
   "execution_count": 67,
   "metadata": {
    "collapsed": false,
    "ExecuteTime": {
     "end_time": "2024-05-13T07:07:17.510317Z",
     "start_time": "2024-05-13T07:06:42.340229Z"
    }
   },
   "outputs": [
    {
     "ename": "KeyboardInterrupt",
     "evalue": "",
     "output_type": "error",
     "traceback": [
      "\u001B[0;31m---------------------------------------------------------------------------\u001B[0m",
      "\u001B[0;31mKeyboardInterrupt\u001B[0m                         Traceback (most recent call last)",
      "Cell \u001B[0;32mIn[67], line 5\u001B[0m\n\u001B[1;32m      3\u001B[0m action, _states \u001B[38;5;241m=\u001B[39m model2\u001B[38;5;241m.\u001B[39mpredict(obs)\n\u001B[1;32m      4\u001B[0m obs, rewards, dones, info \u001B[38;5;241m=\u001B[39m env2\u001B[38;5;241m.\u001B[39mstep(action)\n\u001B[0;32m----> 5\u001B[0m \u001B[43menv2\u001B[49m\u001B[38;5;241;43m.\u001B[39;49m\u001B[43mrender\u001B[49m\u001B[43m(\u001B[49m\u001B[38;5;124;43m\"\u001B[39;49m\u001B[38;5;124;43mhuman\u001B[39;49m\u001B[38;5;124;43m\"\u001B[39;49m\u001B[43m)\u001B[49m\n",
      "File \u001B[0;32m~/.local/share/virtualenvs/lab5-5074mnsZ/lib/python3.11/site-packages/stable_baselines3/common/vec_env/dummy_vec_env.py:103\u001B[0m, in \u001B[0;36mDummyVecEnv.render\u001B[0;34m(self, mode)\u001B[0m\n\u001B[1;32m     96\u001B[0m \u001B[38;5;28;01mdef\u001B[39;00m \u001B[38;5;21mrender\u001B[39m(\u001B[38;5;28mself\u001B[39m, mode: Optional[\u001B[38;5;28mstr\u001B[39m] \u001B[38;5;241m=\u001B[39m \u001B[38;5;28;01mNone\u001B[39;00m) \u001B[38;5;241m-\u001B[39m\u001B[38;5;241m>\u001B[39m Optional[np\u001B[38;5;241m.\u001B[39mndarray]:\n\u001B[1;32m     97\u001B[0m \u001B[38;5;250m    \u001B[39m\u001B[38;5;124;03m\"\"\"\u001B[39;00m\n\u001B[1;32m     98\u001B[0m \u001B[38;5;124;03m    Gym environment rendering. If there are multiple environments then\u001B[39;00m\n\u001B[1;32m     99\u001B[0m \u001B[38;5;124;03m    they are tiled together in one image via ``BaseVecEnv.render()``.\u001B[39;00m\n\u001B[1;32m    100\u001B[0m \n\u001B[1;32m    101\u001B[0m \u001B[38;5;124;03m    :param mode: The rendering type.\u001B[39;00m\n\u001B[1;32m    102\u001B[0m \u001B[38;5;124;03m    \"\"\"\u001B[39;00m\n\u001B[0;32m--> 103\u001B[0m     \u001B[38;5;28;01mreturn\u001B[39;00m \u001B[38;5;28;43msuper\u001B[39;49m\u001B[43m(\u001B[49m\u001B[43m)\u001B[49m\u001B[38;5;241;43m.\u001B[39;49m\u001B[43mrender\u001B[49m\u001B[43m(\u001B[49m\u001B[43mmode\u001B[49m\u001B[38;5;241;43m=\u001B[39;49m\u001B[43mmode\u001B[49m\u001B[43m)\u001B[49m\n",
      "File \u001B[0;32m~/.local/share/virtualenvs/lab5-5074mnsZ/lib/python3.11/site-packages/stable_baselines3/common/vec_env/base_vec_env.py:255\u001B[0m, in \u001B[0;36mVecEnv.render\u001B[0;34m(self, mode)\u001B[0m\n\u001B[1;32m    251\u001B[0m     \u001B[38;5;28;01mreturn\u001B[39;00m \u001B[38;5;28;01mNone\u001B[39;00m\n\u001B[1;32m    253\u001B[0m \u001B[38;5;28;01mif\u001B[39;00m mode \u001B[38;5;241m==\u001B[39m \u001B[38;5;124m\"\u001B[39m\u001B[38;5;124mrgb_array\u001B[39m\u001B[38;5;124m\"\u001B[39m \u001B[38;5;129;01mor\u001B[39;00m mode \u001B[38;5;241m==\u001B[39m \u001B[38;5;124m\"\u001B[39m\u001B[38;5;124mhuman\u001B[39m\u001B[38;5;124m\"\u001B[39m:\n\u001B[1;32m    254\u001B[0m     \u001B[38;5;66;03m# call the render method of the environments\u001B[39;00m\n\u001B[0;32m--> 255\u001B[0m     images \u001B[38;5;241m=\u001B[39m \u001B[38;5;28;43mself\u001B[39;49m\u001B[38;5;241;43m.\u001B[39;49m\u001B[43mget_images\u001B[49m\u001B[43m(\u001B[49m\u001B[43m)\u001B[49m\n\u001B[1;32m    256\u001B[0m     \u001B[38;5;66;03m# Create a big image by tiling images from subprocesses\u001B[39;00m\n\u001B[1;32m    257\u001B[0m     bigimg \u001B[38;5;241m=\u001B[39m tile_images(images)  \u001B[38;5;66;03m# type: ignore[arg-type]\u001B[39;00m\n",
      "File \u001B[0;32m~/.local/share/virtualenvs/lab5-5074mnsZ/lib/python3.11/site-packages/stable_baselines3/common/vec_env/dummy_vec_env.py:94\u001B[0m, in \u001B[0;36mDummyVecEnv.get_images\u001B[0;34m(self)\u001B[0m\n\u001B[1;32m     90\u001B[0m     warnings\u001B[38;5;241m.\u001B[39mwarn(\n\u001B[1;32m     91\u001B[0m         \u001B[38;5;124mf\u001B[39m\u001B[38;5;124m\"\u001B[39m\u001B[38;5;124mThe render mode is \u001B[39m\u001B[38;5;132;01m{\u001B[39;00m\u001B[38;5;28mself\u001B[39m\u001B[38;5;241m.\u001B[39mrender_mode\u001B[38;5;132;01m}\u001B[39;00m\u001B[38;5;124m, but this method assumes it is `rgb_array` to obtain images.\u001B[39m\u001B[38;5;124m\"\u001B[39m\n\u001B[1;32m     92\u001B[0m     )\n\u001B[1;32m     93\u001B[0m     \u001B[38;5;28;01mreturn\u001B[39;00m [\u001B[38;5;28;01mNone\u001B[39;00m \u001B[38;5;28;01mfor\u001B[39;00m _ \u001B[38;5;129;01min\u001B[39;00m \u001B[38;5;28mself\u001B[39m\u001B[38;5;241m.\u001B[39menvs]\n\u001B[0;32m---> 94\u001B[0m \u001B[38;5;28;01mreturn\u001B[39;00m \u001B[43m[\u001B[49m\u001B[43menv\u001B[49m\u001B[38;5;241;43m.\u001B[39;49m\u001B[43mrender\u001B[49m\u001B[43m(\u001B[49m\u001B[43m)\u001B[49m\u001B[43m \u001B[49m\u001B[38;5;28;43;01mfor\u001B[39;49;00m\u001B[43m \u001B[49m\u001B[43menv\u001B[49m\u001B[43m \u001B[49m\u001B[38;5;129;43;01min\u001B[39;49;00m\u001B[43m \u001B[49m\u001B[38;5;28;43mself\u001B[39;49m\u001B[38;5;241;43m.\u001B[39;49m\u001B[43menvs\u001B[49m\u001B[43m]\u001B[49m\n",
      "File \u001B[0;32m~/.local/share/virtualenvs/lab5-5074mnsZ/lib/python3.11/site-packages/stable_baselines3/common/vec_env/dummy_vec_env.py:94\u001B[0m, in \u001B[0;36m<listcomp>\u001B[0;34m(.0)\u001B[0m\n\u001B[1;32m     90\u001B[0m     warnings\u001B[38;5;241m.\u001B[39mwarn(\n\u001B[1;32m     91\u001B[0m         \u001B[38;5;124mf\u001B[39m\u001B[38;5;124m\"\u001B[39m\u001B[38;5;124mThe render mode is \u001B[39m\u001B[38;5;132;01m{\u001B[39;00m\u001B[38;5;28mself\u001B[39m\u001B[38;5;241m.\u001B[39mrender_mode\u001B[38;5;132;01m}\u001B[39;00m\u001B[38;5;124m, but this method assumes it is `rgb_array` to obtain images.\u001B[39m\u001B[38;5;124m\"\u001B[39m\n\u001B[1;32m     92\u001B[0m     )\n\u001B[1;32m     93\u001B[0m     \u001B[38;5;28;01mreturn\u001B[39;00m [\u001B[38;5;28;01mNone\u001B[39;00m \u001B[38;5;28;01mfor\u001B[39;00m _ \u001B[38;5;129;01min\u001B[39;00m \u001B[38;5;28mself\u001B[39m\u001B[38;5;241m.\u001B[39menvs]\n\u001B[0;32m---> 94\u001B[0m \u001B[38;5;28;01mreturn\u001B[39;00m [\u001B[43menv\u001B[49m\u001B[38;5;241;43m.\u001B[39;49m\u001B[43mrender\u001B[49m\u001B[43m(\u001B[49m\u001B[43m)\u001B[49m \u001B[38;5;28;01mfor\u001B[39;00m env \u001B[38;5;129;01min\u001B[39;00m \u001B[38;5;28mself\u001B[39m\u001B[38;5;241m.\u001B[39menvs]\n",
      "File \u001B[0;32m~/.local/share/virtualenvs/lab5-5074mnsZ/lib/python3.11/site-packages/gymnasium/core.py:471\u001B[0m, in \u001B[0;36mWrapper.render\u001B[0;34m(self)\u001B[0m\n\u001B[1;32m    469\u001B[0m \u001B[38;5;28;01mdef\u001B[39;00m \u001B[38;5;21mrender\u001B[39m(\u001B[38;5;28mself\u001B[39m) \u001B[38;5;241m-\u001B[39m\u001B[38;5;241m>\u001B[39m RenderFrame \u001B[38;5;241m|\u001B[39m \u001B[38;5;28mlist\u001B[39m[RenderFrame] \u001B[38;5;241m|\u001B[39m \u001B[38;5;28;01mNone\u001B[39;00m:\n\u001B[1;32m    470\u001B[0m \u001B[38;5;250m    \u001B[39m\u001B[38;5;124;03m\"\"\"Uses the :meth:`render` of the :attr:`env` that can be overwritten to change the returned data.\"\"\"\u001B[39;00m\n\u001B[0;32m--> 471\u001B[0m     \u001B[38;5;28;01mreturn\u001B[39;00m \u001B[38;5;28;43mself\u001B[39;49m\u001B[38;5;241;43m.\u001B[39;49m\u001B[43menv\u001B[49m\u001B[38;5;241;43m.\u001B[39;49m\u001B[43mrender\u001B[49m\u001B[43m(\u001B[49m\u001B[43m)\u001B[49m\n",
      "File \u001B[0;32m~/.local/share/virtualenvs/lab5-5074mnsZ/lib/python3.11/site-packages/gymnasium/core.py:471\u001B[0m, in \u001B[0;36mWrapper.render\u001B[0;34m(self)\u001B[0m\n\u001B[1;32m    469\u001B[0m \u001B[38;5;28;01mdef\u001B[39;00m \u001B[38;5;21mrender\u001B[39m(\u001B[38;5;28mself\u001B[39m) \u001B[38;5;241m-\u001B[39m\u001B[38;5;241m>\u001B[39m RenderFrame \u001B[38;5;241m|\u001B[39m \u001B[38;5;28mlist\u001B[39m[RenderFrame] \u001B[38;5;241m|\u001B[39m \u001B[38;5;28;01mNone\u001B[39;00m:\n\u001B[1;32m    470\u001B[0m \u001B[38;5;250m    \u001B[39m\u001B[38;5;124;03m\"\"\"Uses the :meth:`render` of the :attr:`env` that can be overwritten to change the returned data.\"\"\"\u001B[39;00m\n\u001B[0;32m--> 471\u001B[0m     \u001B[38;5;28;01mreturn\u001B[39;00m \u001B[38;5;28;43mself\u001B[39;49m\u001B[38;5;241;43m.\u001B[39;49m\u001B[43menv\u001B[49m\u001B[38;5;241;43m.\u001B[39;49m\u001B[43mrender\u001B[49m\u001B[43m(\u001B[49m\u001B[43m)\u001B[49m\n",
      "File \u001B[0;32m~/.local/share/virtualenvs/lab5-5074mnsZ/lib/python3.11/site-packages/gymnasium/wrappers/order_enforcing.py:70\u001B[0m, in \u001B[0;36mOrderEnforcing.render\u001B[0;34m(self, *args, **kwargs)\u001B[0m\n\u001B[1;32m     65\u001B[0m \u001B[38;5;28;01mif\u001B[39;00m \u001B[38;5;129;01mnot\u001B[39;00m \u001B[38;5;28mself\u001B[39m\u001B[38;5;241m.\u001B[39m_disable_render_order_enforcing \u001B[38;5;129;01mand\u001B[39;00m \u001B[38;5;129;01mnot\u001B[39;00m \u001B[38;5;28mself\u001B[39m\u001B[38;5;241m.\u001B[39m_has_reset:\n\u001B[1;32m     66\u001B[0m     \u001B[38;5;28;01mraise\u001B[39;00m ResetNeeded(\n\u001B[1;32m     67\u001B[0m         \u001B[38;5;124m\"\u001B[39m\u001B[38;5;124mCannot call `env.render()` before calling `env.reset()`, if this is a intended action, \u001B[39m\u001B[38;5;124m\"\u001B[39m\n\u001B[1;32m     68\u001B[0m         \u001B[38;5;124m\"\u001B[39m\u001B[38;5;124mset `disable_render_order_enforcing=True` on the OrderEnforcer wrapper.\u001B[39m\u001B[38;5;124m\"\u001B[39m\n\u001B[1;32m     69\u001B[0m     )\n\u001B[0;32m---> 70\u001B[0m \u001B[38;5;28;01mreturn\u001B[39;00m \u001B[38;5;28;43mself\u001B[39;49m\u001B[38;5;241;43m.\u001B[39;49m\u001B[43menv\u001B[49m\u001B[38;5;241;43m.\u001B[39;49m\u001B[43mrender\u001B[49m\u001B[43m(\u001B[49m\u001B[38;5;241;43m*\u001B[39;49m\u001B[43margs\u001B[49m\u001B[43m,\u001B[49m\u001B[43m \u001B[49m\u001B[38;5;241;43m*\u001B[39;49m\u001B[38;5;241;43m*\u001B[39;49m\u001B[43mkwargs\u001B[49m\u001B[43m)\u001B[49m\n",
      "File \u001B[0;32m~/.local/share/virtualenvs/lab5-5074mnsZ/lib/python3.11/site-packages/gymnasium/wrappers/env_checker.py:67\u001B[0m, in \u001B[0;36mPassiveEnvChecker.render\u001B[0;34m(self, *args, **kwargs)\u001B[0m\n\u001B[1;32m     65\u001B[0m     \u001B[38;5;28;01mreturn\u001B[39;00m env_render_passive_checker(\u001B[38;5;28mself\u001B[39m\u001B[38;5;241m.\u001B[39menv, \u001B[38;5;241m*\u001B[39margs, \u001B[38;5;241m*\u001B[39m\u001B[38;5;241m*\u001B[39mkwargs)\n\u001B[1;32m     66\u001B[0m \u001B[38;5;28;01melse\u001B[39;00m:\n\u001B[0;32m---> 67\u001B[0m     \u001B[38;5;28;01mreturn\u001B[39;00m \u001B[38;5;28;43mself\u001B[39;49m\u001B[38;5;241;43m.\u001B[39;49m\u001B[43menv\u001B[49m\u001B[38;5;241;43m.\u001B[39;49m\u001B[43mrender\u001B[49m\u001B[43m(\u001B[49m\u001B[38;5;241;43m*\u001B[39;49m\u001B[43margs\u001B[49m\u001B[43m,\u001B[49m\u001B[43m \u001B[49m\u001B[38;5;241;43m*\u001B[39;49m\u001B[38;5;241;43m*\u001B[39;49m\u001B[43mkwargs\u001B[49m\u001B[43m)\u001B[49m\n",
      "File \u001B[0;32m~/.local/share/virtualenvs/lab5-5074mnsZ/lib/python3.11/site-packages/gymnasium/envs/classic_control/continuous_mountain_car.py:295\u001B[0m, in \u001B[0;36mContinuous_MountainCarEnv.render\u001B[0;34m(self)\u001B[0m\n\u001B[1;32m    291\u001B[0m     pygame\u001B[38;5;241m.\u001B[39mdisplay\u001B[38;5;241m.\u001B[39mflip()\n\u001B[1;32m    293\u001B[0m \u001B[38;5;28;01melif\u001B[39;00m \u001B[38;5;28mself\u001B[39m\u001B[38;5;241m.\u001B[39mrender_mode \u001B[38;5;241m==\u001B[39m \u001B[38;5;124m\"\u001B[39m\u001B[38;5;124mrgb_array\u001B[39m\u001B[38;5;124m\"\u001B[39m:\n\u001B[1;32m    294\u001B[0m     \u001B[38;5;28;01mreturn\u001B[39;00m np\u001B[38;5;241m.\u001B[39mtranspose(\n\u001B[0;32m--> 295\u001B[0m         np\u001B[38;5;241m.\u001B[39marray(pygame\u001B[38;5;241m.\u001B[39msurfarray\u001B[38;5;241m.\u001B[39mpixels3d(\u001B[38;5;28mself\u001B[39m\u001B[38;5;241m.\u001B[39mscreen)), axes\u001B[38;5;241m=\u001B[39m(\u001B[38;5;241m1\u001B[39m, \u001B[38;5;241m0\u001B[39m, \u001B[38;5;241m2\u001B[39m)\n\u001B[1;32m    296\u001B[0m     )\n",
      "\u001B[0;31mKeyboardInterrupt\u001B[0m: "
     ]
    }
   ],
   "source": [
    "obs = env2.reset()\n",
    "while True:\n",
    "    action, _states = model2.predict(obs)\n",
    "    obs, rewards, dones, info = env2.step(action)\n",
    "    env2.render(\"human\")"
   ]
  },
  {
   "cell_type": "code",
   "outputs": [
    {
     "name": "stdout",
     "output_type": "stream",
     "text": [
      "Using cpu device\n",
      "---------------------------------\n",
      "| rollout/           |          |\n",
      "|    ep_len_mean     | 999      |\n",
      "|    ep_rew_mean     | -0.913   |\n",
      "| time/              |          |\n",
      "|    episodes        | 4        |\n",
      "|    fps             | 121      |\n",
      "|    time_elapsed    | 32       |\n",
      "|    total_timesteps | 3996     |\n",
      "| train/             |          |\n",
      "|    actor_loss      | 0.09     |\n",
      "|    critic_loss     | 6.26e-05 |\n",
      "|    learning_rate   | 0.001    |\n",
      "|    n_updates       | 3895     |\n",
      "---------------------------------\n",
      "---------------------------------\n",
      "| rollout/           |          |\n",
      "|    ep_len_mean     | 999      |\n",
      "|    ep_rew_mean     | -0.466   |\n",
      "| time/              |          |\n",
      "|    episodes        | 8        |\n",
      "|    fps             | 118      |\n",
      "|    time_elapsed    | 67       |\n",
      "|    total_timesteps | 7992     |\n",
      "| train/             |          |\n",
      "|    actor_loss      | 0.128    |\n",
      "|    critic_loss     | 5.02e-05 |\n",
      "|    learning_rate   | 0.001    |\n",
      "|    n_updates       | 7891     |\n",
      "---------------------------------\n",
      "---------------------------------\n",
      "| rollout/           |          |\n",
      "|    ep_len_mean     | 999      |\n",
      "|    ep_rew_mean     | -0.315   |\n",
      "| time/              |          |\n",
      "|    episodes        | 12       |\n",
      "|    fps             | 117      |\n",
      "|    time_elapsed    | 101      |\n",
      "|    total_timesteps | 11988    |\n",
      "| train/             |          |\n",
      "|    actor_loss      | 0.149    |\n",
      "|    critic_loss     | 6.59e-05 |\n",
      "|    learning_rate   | 0.001    |\n",
      "|    n_updates       | 11887    |\n",
      "---------------------------------\n",
      "---------------------------------\n",
      "| rollout/           |          |\n",
      "|    ep_len_mean     | 999      |\n",
      "|    ep_rew_mean     | -0.24    |\n",
      "| time/              |          |\n",
      "|    episodes        | 16       |\n",
      "|    fps             | 117      |\n",
      "|    time_elapsed    | 136      |\n",
      "|    total_timesteps | 15984    |\n",
      "| train/             |          |\n",
      "|    actor_loss      | 0.173    |\n",
      "|    critic_loss     | 5.94e-05 |\n",
      "|    learning_rate   | 0.001    |\n",
      "|    n_updates       | 15883    |\n",
      "---------------------------------\n",
      "---------------------------------\n",
      "| rollout/           |          |\n",
      "|    ep_len_mean     | 999      |\n",
      "|    ep_rew_mean     | -0.196   |\n",
      "| time/              |          |\n",
      "|    episodes        | 20       |\n",
      "|    fps             | 117      |\n",
      "|    time_elapsed    | 170      |\n",
      "|    total_timesteps | 19980    |\n",
      "| train/             |          |\n",
      "|    actor_loss      | 0.191    |\n",
      "|    critic_loss     | 4.88e-05 |\n",
      "|    learning_rate   | 0.001    |\n",
      "|    n_updates       | 19879    |\n",
      "---------------------------------\n",
      "---------------------------------\n",
      "| rollout/           |          |\n",
      "|    ep_len_mean     | 999      |\n",
      "|    ep_rew_mean     | -0.165   |\n",
      "| time/              |          |\n",
      "|    episodes        | 24       |\n",
      "|    fps             | 116      |\n",
      "|    time_elapsed    | 206      |\n",
      "|    total_timesteps | 23976    |\n",
      "| train/             |          |\n",
      "|    actor_loss      | 0.211    |\n",
      "|    critic_loss     | 5.74e-05 |\n",
      "|    learning_rate   | 0.001    |\n",
      "|    n_updates       | 23875    |\n",
      "---------------------------------\n",
      "---------------------------------\n",
      "| rollout/           |          |\n",
      "|    ep_len_mean     | 999      |\n",
      "|    ep_rew_mean     | -0.143   |\n",
      "| time/              |          |\n",
      "|    episodes        | 28       |\n",
      "|    fps             | 115      |\n",
      "|    time_elapsed    | 242      |\n",
      "|    total_timesteps | 27972    |\n",
      "| train/             |          |\n",
      "|    actor_loss      | 0.226    |\n",
      "|    critic_loss     | 4.55e-05 |\n",
      "|    learning_rate   | 0.001    |\n",
      "|    n_updates       | 27871    |\n",
      "---------------------------------\n",
      "---------------------------------\n",
      "| rollout/           |          |\n",
      "|    ep_len_mean     | 999      |\n",
      "|    ep_rew_mean     | -0.127   |\n",
      "| time/              |          |\n",
      "|    episodes        | 32       |\n",
      "|    fps             | 114      |\n",
      "|    time_elapsed    | 279      |\n",
      "|    total_timesteps | 31968    |\n",
      "| train/             |          |\n",
      "|    actor_loss      | 0.241    |\n",
      "|    critic_loss     | 4.61e-05 |\n",
      "|    learning_rate   | 0.001    |\n",
      "|    n_updates       | 31867    |\n",
      "---------------------------------\n",
      "---------------------------------\n",
      "| rollout/           |          |\n",
      "|    ep_len_mean     | 999      |\n",
      "|    ep_rew_mean     | -0.115   |\n",
      "| time/              |          |\n",
      "|    episodes        | 36       |\n",
      "|    fps             | 113      |\n",
      "|    time_elapsed    | 317      |\n",
      "|    total_timesteps | 35964    |\n",
      "| train/             |          |\n",
      "|    actor_loss      | 0.255    |\n",
      "|    critic_loss     | 5.39e-05 |\n",
      "|    learning_rate   | 0.001    |\n",
      "|    n_updates       | 35863    |\n",
      "---------------------------------\n",
      "---------------------------------\n",
      "| rollout/           |          |\n",
      "|    ep_len_mean     | 999      |\n",
      "|    ep_rew_mean     | -0.105   |\n",
      "| time/              |          |\n",
      "|    episodes        | 40       |\n",
      "|    fps             | 113      |\n",
      "|    time_elapsed    | 352      |\n",
      "|    total_timesteps | 39960    |\n",
      "| train/             |          |\n",
      "|    actor_loss      | 0.266    |\n",
      "|    critic_loss     | 5.92e-05 |\n",
      "|    learning_rate   | 0.001    |\n",
      "|    n_updates       | 39859    |\n",
      "---------------------------------\n",
      "---------------------------------\n",
      "| rollout/           |          |\n",
      "|    ep_len_mean     | 999      |\n",
      "|    ep_rew_mean     | -0.0963  |\n",
      "| time/              |          |\n",
      "|    episodes        | 44       |\n",
      "|    fps             | 113      |\n",
      "|    time_elapsed    | 388      |\n",
      "|    total_timesteps | 43956    |\n",
      "| train/             |          |\n",
      "|    actor_loss      | 0.277    |\n",
      "|    critic_loss     | 4.69e-05 |\n",
      "|    learning_rate   | 0.001    |\n",
      "|    n_updates       | 43855    |\n",
      "---------------------------------\n",
      "---------------------------------\n",
      "| rollout/           |          |\n",
      "|    ep_len_mean     | 999      |\n",
      "|    ep_rew_mean     | -0.0894  |\n",
      "| time/              |          |\n",
      "|    episodes        | 48       |\n",
      "|    fps             | 113      |\n",
      "|    time_elapsed    | 424      |\n",
      "|    total_timesteps | 47952    |\n",
      "| train/             |          |\n",
      "|    actor_loss      | 0.288    |\n",
      "|    critic_loss     | 5.23e-05 |\n",
      "|    learning_rate   | 0.001    |\n",
      "|    n_updates       | 47851    |\n",
      "---------------------------------\n",
      "Saving model to mountaincar_model.zip\n"
     ]
    }
   ],
   "source": [
    "env = make_vec_env(\"MountainCarContinuous-v0\", n_envs=1)\n",
    "\n",
    "model = TD3(\n",
    "    policy=\"MlpPolicy\",\n",
    "    verbose=1,\n",
    "    env=env,\n",
    "    learning_rate=1e-3,\n",
    "    buffer_size=50000,\n",
    ")\n",
    "\n",
    "model.learn(total_timesteps=50000)\n",
    "\n",
    "print(\"Saving model to mountaincar_model.zip\")\n",
    "model.save(\"mountaincar_model\")\n"
   ],
   "metadata": {
    "collapsed": false,
    "ExecuteTime": {
     "end_time": "2024-05-13T07:27:04.072540Z",
     "start_time": "2024-05-13T07:19:41.545326Z"
    }
   },
   "execution_count": 85
  },
  {
   "cell_type": "code",
   "outputs": [
    {
     "name": "stdout",
     "output_type": "stream",
     "text": [
      "Episode reward [-0.00016274]\n",
      "Episode reward [-0.00016274]\n",
      "Episode reward [-0.00016274]\n",
      "Episode reward [-0.00016274]\n",
      "Episode reward [-0.00016274]\n",
      "Episode reward [-0.00016274]\n",
      "Episode reward [-0.00016274]\n"
     ]
    }
   ],
   "source": [
    "env = make_vec_env(\"MountainCarContinuous-v0\", n_envs=1)\n",
    "model = TD3.load(\"mountaincar_model.zip\", env)\n",
    "no_render = False\n",
    "\n",
    "while True:\n",
    "    obs, done = env.reset(), False\n",
    "    episode_rew = 0\n",
    "    while not done:\n",
    "        if not no_render:\n",
    "            env.render()\n",
    "        # Epsilon-greedy\n",
    "        \n",
    "        action, _ = model.predict(obs, deterministic=True)\n",
    "        obs, rew, done, _ = env.step(action)\n",
    "        episode_rew += rew\n",
    "    print(\"Episode reward\", episode_rew)"
   ],
   "metadata": {
    "collapsed": false,
    "ExecuteTime": {
     "start_time": "2024-05-13T07:28:36.866768Z"
    }
   },
   "execution_count": null
  },
  {
   "cell_type": "code",
   "outputs": [],
   "source": [],
   "metadata": {
    "collapsed": false
   }
  }
 ],
 "metadata": {
  "kernelspec": {
   "display_name": "base",
   "language": "python",
   "name": "python3"
  },
  "language_info": {
   "codemirror_mode": {
    "name": "ipython",
    "version": 3
   },
   "file_extension": ".py",
   "mimetype": "text/x-python",
   "name": "python",
   "nbconvert_exporter": "python",
   "pygments_lexer": "ipython3",
   "version": "3.9.12"
  }
 },
 "nbformat": 4,
 "nbformat_minor": 2
}
