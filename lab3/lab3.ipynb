{
 "cells": [
  {
   "cell_type": "markdown",
   "metadata": {},
   "source": [
    "## Gymnasium"
   ]
  },
  {
   "cell_type": "code",
   "execution_count": 2,
   "metadata": {},
   "outputs": [],
   "source": [
    "import random\n",
    "\n",
    "import matplotlib.pyplot as plt\n",
    "import numpy as np\n",
    "import pandas as pd\n",
    "import seaborn as sns\n",
    "import torch\n",
    "import torch.nn as nn\n",
    "from torch.distributions.normal import Normal\n",
    "import gymnasium as gym\n",
    "from gymnasium.wrappers import FlattenObservation\n",
    "from skrl.models.torch.deterministic import DeterministicMixin\n",
    "from skrl.models.torch import Model\n",
    "from skrl.memories.torch import RandomMemory\n",
    "\n"
   ]
  },
  {
   "cell_type": "markdown",
   "metadata": {},
   "source": [
    "### Blackjack"
   ]
  },
  {
   "cell_type": "code",
   "execution_count": 30,
   "metadata": {},
   "outputs": [],
   "source": [
    "env = gym.make('Blackjack-v1', natural=False, sab=False)"
   ]
  },
  {
   "cell_type": "code",
   "execution_count": 31,
   "metadata": {},
   "outputs": [],
   "source": [
    "class DeterministicActor(DeterministicMixin, Model):\n",
    "    def __init__(self, observation_space, action_space, device=\"cpu\", clip_acitons=False):\n",
    "        Model.__init__(self, observation_space, action_space, device)\n",
    "        DeterministicMixin.__init__(self, clip_acitons)\n",
    "        \n",
    "        # if isinstance(observation_space, gym.spaces.Tuple):\n",
    "        #     self.observation_spaces = observation_space.spaces\n",
    "        #     self.num_observations = sum([space.shape[0] for space in self.observation_spaces])\n",
    "        # else:\n",
    "        #     raise ValueError(\"Observation space must be of type gym.spaces.Tuple\")\n",
    "        \n",
    "        self.linear_layer_1 = nn.Linear(self.num_observations, 32)\n",
    "        self.linear_layer_2 = nn.Linear(32, 16)\n",
    "        self.action_layer = nn.Linear(16, self.num_actions)\n",
    "    \n",
    "    def compute(self, inputs, role):\n",
    "        concatenated_inputs = torch.cat(\n",
    "            [inputs[\"states\"][space_idx] for space_idx in range(len(self.observation_spaces))],\n",
    "            dim=1\n",
    "        )\n",
    "        \n",
    "        x = F.relu(self.layer_1(concatenated_inputs))\n",
    "        x = F.relu(self.layer_2(x))\n",
    "        return torch.sigmoid(self.action_layer(x)), {}"
   ]
  },
  {
   "cell_type": "code",
   "execution_count": 32,
   "metadata": {},
   "outputs": [],
   "source": [
    "class DeterministicCritic(DeterministicMixin, Model):\n",
    "    def __init__(self, observation_space, action_space, device, clip_acitons=False):\n",
    "        Model.__init__(self, observation_space, action_space, device)\n",
    "        DeterministicMixin.__init__(self, clip_acitons)\n",
    "        \n",
    "        self.linear_layer_1 = nn.Linear(self.num_observations + self.num_actions, 32)\n",
    "        self.linear_layer_2 = nn.Linear(32, 16)\n",
    "        self.linear_layer_3 = nn.Linear(16, 1)\n",
    "    \n",
    "    def compute(self, inputs, role):\n",
    "        x = F.relu(self.layer_1(torch.cat([inputs[\"states\"], inputs[\"taken_action\"]], dim=1)))\n",
    "        x = F.relu(self.layer_2(x))\n",
    "        return self.linear_layer_3(x), {}"
   ]
  },
  {
   "cell_type": "code",
   "execution_count": 33,
   "metadata": {},
   "outputs": [],
   "source": [
    "memory = RandomMemory(memory_size=1000)"
   ]
  },
  {
   "cell_type": "code",
   "execution_count": 34,
   "metadata": {},
   "outputs": [],
   "source": [
    "models = {}\n",
    "models[\"policy\"] = DeterministicActor(gym.spaces.flatten_space(env.observation_space), env.action_space)\n"
   ]
  },
  {
   "cell_type": "code",
   "execution_count": 35,
   "metadata": {},
   "outputs": [
    {
     "data": {
      "text/plain": [
       "gymnasium.spaces.tuple.Tuple"
      ]
     },
     "execution_count": 35,
     "metadata": {},
     "output_type": "execute_result"
    }
   ],
   "source": [
    "type(env.observation_space)"
   ]
  },
  {
   "cell_type": "code",
   "execution_count": 24,
   "metadata": {},
   "outputs": [
    {
     "data": {
      "text/plain": [
       "gymnasium.spaces.discrete.Discrete"
      ]
     },
     "execution_count": 24,
     "metadata": {},
     "output_type": "execute_result"
    }
   ],
   "source": []
  },
  {
   "cell_type": "code",
   "execution_count": 21,
   "metadata": {},
   "outputs": [
    {
     "data": {
      "text/plain": [
       "(Discrete(32), Discrete(11), Discrete(2))"
      ]
     },
     "execution_count": 21,
     "metadata": {},
     "output_type": "execute_result"
    }
   ],
   "source": [
    "obsv_space"
   ]
  },
  {
   "cell_type": "code",
   "execution_count": 26,
   "metadata": {},
   "outputs": [
    {
     "data": {
      "text/plain": [
       "Box(0, 1, (45,), int64)"
      ]
     },
     "execution_count": 26,
     "metadata": {},
     "output_type": "execute_result"
    }
   ],
   "source": [
    "gym.spaces.flatten_space(env.observation_space)"
   ]
  },
  {
   "cell_type": "code",
   "execution_count": null,
   "metadata": {},
   "outputs": [],
   "source": []
  }
 ],
 "metadata": {
  "kernelspec": {
   "display_name": "Python 3",
   "language": "python",
   "name": "python3"
  },
  "language_info": {
   "codemirror_mode": {
    "name": "ipython",
    "version": 3
   },
   "file_extension": ".py",
   "mimetype": "text/x-python",
   "name": "python",
   "nbconvert_exporter": "python",
   "pygments_lexer": "ipython3",
   "version": "3.9.12"
  }
 },
 "nbformat": 4,
 "nbformat_minor": 2
}
