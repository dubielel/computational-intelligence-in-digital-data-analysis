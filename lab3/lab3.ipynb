{
 "cells": [
  {
   "cell_type": "markdown",
   "metadata": {},
   "source": [
    "## Gymnasium"
   ]
  },
  {
   "cell_type": "code",
   "execution_count": 1,
   "metadata": {},
   "outputs": [],
   "source": [
    "import random\n",
    "\n",
    "import matplotlib.pyplot as plt\n",
    "import numpy as np\n",
    "import pandas as pd\n",
    "import seaborn as sns\n",
    "import torch\n",
    "import torch.nn as nn\n",
    "from torch.distributions.normal import Normal\n",
    "import gymnasium as gym\n",
    "from gymnasium.wrappers import FlattenObservation\n",
    "from skrl.models.torch.deterministic import DeterministicMixin\n",
    "from skrl.models.torch import Model\n",
    "from skrl.memories.torch import RandomMemory\n",
    "from skrl.agents.torch.ddpg import DDPG, DDPG_DEFAULT_CONFIG\n"
   ]
  },
  {
   "cell_type": "markdown",
   "metadata": {},
   "source": [
    "### Blackjack"
   ]
  },
  {
   "cell_type": "code",
   "execution_count": 2,
   "metadata": {},
   "outputs": [],
   "source": [
    "env = gym.make('Blackjack-v1', natural=False, sab=False)"
   ]
  },
  {
   "cell_type": "code",
   "execution_count": 10,
   "metadata": {},
   "outputs": [],
   "source": [
    "class DeterministicActor(DeterministicMixin, Model):\n",
    "    def __init__(self, observation_space, action_space, device=\"cpu\", clip_acitons=False):\n",
    "        Model.__init__(self, observation_space, action_space, device)\n",
    "        DeterministicMixin.__init__(self, clip_acitons)\n",
    "        \n",
    "        # if isinstance(observation_space, gym.spaces.Tuple):\n",
    "        #     self.observation_spaces = observation_space.spaces\n",
    "        #     self.num_observations = sum([space.shape[0] for space in self.observation_spaces])\n",
    "        # else:\n",
    "        #     raise ValueError(\"Observation space must be of type gym.spaces.Tuple\")\n",
    "        \n",
    "        self.linear_layer_1 = nn.Linear(self.num_observations, 32)\n",
    "        self.linear_layer_2 = nn.Linear(32, 16)\n",
    "        self.action_layer = nn.Linear(16, self.num_actions)\n",
    "    \n",
    "    def compute(self, inputs, role):\n",
    "        concatenated_inputs = torch.cat(\n",
    "            [inputs[\"states\"][space_idx] for space_idx in range(len(self.observation_spaces))],\n",
    "            dim=1\n",
    "        )\n",
    "        \n",
    "        x = nn.functional.relu(self.linear_layer_1(concatenated_inputs))\n",
    "        x = nn.functional.relu(self.linear_layer_2(x))\n",
    "        return torch.sigmoid(self.action_layer(x)), {}"
   ]
  },
  {
   "cell_type": "code",
   "execution_count": 11,
   "metadata": {},
   "outputs": [],
   "source": [
    "class DeterministicCritic(DeterministicMixin, Model):\n",
    "    def __init__(self, observation_space, action_space, device=\"cpu\", clip_acitons=False):\n",
    "        Model.__init__(self, observation_space, action_space, device)\n",
    "        DeterministicMixin.__init__(self, clip_acitons)\n",
    "        \n",
    "        self.linear_layer_1 = nn.Linear(self.num_observations + self.num_actions, 32)\n",
    "        self.linear_layer_2 = nn.Linear(32, 16)\n",
    "        self.linear_layer_3 = nn.Linear(16, 1)\n",
    "    \n",
    "    def compute(self, inputs, role):\n",
    "        x = nn.functional.relu(self.linear_layer_1(torch.cat([inputs[\"states\"], inputs[\"taken_action\"]], dim=1)))\n",
    "        x = nn.functional.relu(self.linear_layer_2(x))\n",
    "        return self.linear_layer_3(x), {}"
   ]
  },
  {
   "cell_type": "code",
   "execution_count": 12,
   "metadata": {},
   "outputs": [],
   "source": [
    "memory = RandomMemory(memory_size=1000)"
   ]
  },
  {
   "cell_type": "code",
   "execution_count": 13,
   "metadata": {},
   "outputs": [],
   "source": [
    "models = {}\n",
    "models[\"policy\"] = DeterministicActor(gym.spaces.flatten_space(env.observation_space), env.action_space)\n",
    "models[\"target_policy\"] = DeterministicActor(gym.spaces.flatten_space(env.observation_space), env.action_space)\n",
    "models[\"policy\"] = DeterministicCritic(gym.spaces.flatten_space(env.observation_space), env.action_space)\n",
    "models[\"target_policy\"] = DeterministicCritic(gym.spaces.flatten_space(env.observation_space), env.action_space)"
   ]
  },
  {
   "cell_type": "code",
   "execution_count": 14,
   "metadata": {},
   "outputs": [],
   "source": [
    "for model in models.values():\n",
    "    model.init_parameters(method_name=\"normal_\", mean=0.0, std=0.1)"
   ]
  },
  {
   "cell_type": "code",
   "execution_count": 15,
   "metadata": {},
   "outputs": [],
   "source": [
    "cfg_agent = DDPG_DEFAULT_CONFIG.copy()\n",
    "cfg_agent[\"discount_factor\"] = 0.9\n",
    "agent = DDPG(models=models,\n",
    "             memory=memory,  # only required during training\n",
    "             cfg=cfg_agent,\n",
    "             observation_space=env.observation_space,\n",
    "             action_space=env.action_space,\n",
    "             device=\"cpu\")"
   ]
  },
  {
   "cell_type": "code",
   "execution_count": 16,
   "metadata": {},
   "outputs": [
    {
     "ename": "KeyError",
     "evalue": "'taken_action'",
     "output_type": "error",
     "traceback": [
      "\u001b[0;31m---------------------------------------------------------------------------\u001b[0m",
      "\u001b[0;31mKeyError\u001b[0m                                  Traceback (most recent call last)",
      "Input \u001b[0;32mIn [16]\u001b[0m, in \u001b[0;36m<cell line: 2>\u001b[0;34m()\u001b[0m\n\u001b[1;32m      6\u001b[0m timestep \u001b[38;5;241m=\u001b[39m \u001b[38;5;241m0\u001b[39m \n\u001b[1;32m      7\u001b[0m \u001b[38;5;28;01mwhile\u001b[39;00m \u001b[38;5;129;01mnot\u001b[39;00m done:\n\u001b[0;32m----> 8\u001b[0m     action \u001b[38;5;241m=\u001b[39m \u001b[43magent\u001b[49m\u001b[38;5;241;43m.\u001b[39;49m\u001b[43mact\u001b[49m\u001b[43m(\u001b[49m\u001b[43mobs\u001b[49m\u001b[43m,\u001b[49m\u001b[43m \u001b[49m\u001b[43mtimestep\u001b[49m\u001b[43m,\u001b[49m\u001b[43m \u001b[49m\u001b[43mnum_episodes\u001b[49m\u001b[43m)\u001b[49m\n\u001b[1;32m      9\u001b[0m     next_obs, reward, done, _ \u001b[38;5;241m=\u001b[39m env\u001b[38;5;241m.\u001b[39mstep(action)\n\u001b[1;32m     10\u001b[0m     episode_reward \u001b[38;5;241m+\u001b[39m\u001b[38;5;241m=\u001b[39m reward\n",
      "File \u001b[0;32m~/opt/anaconda3/lib/python3.9/site-packages/skrl/agents/torch/ddpg/ddpg.py:203\u001b[0m, in \u001b[0;36mDDPG.act\u001b[0;34m(self, states, timestep, timesteps)\u001b[0m\n\u001b[1;32m    200\u001b[0m     \u001b[38;5;28;01mreturn\u001b[39;00m \u001b[38;5;28mself\u001b[39m\u001b[38;5;241m.\u001b[39mpolicy\u001b[38;5;241m.\u001b[39mrandom_act({\u001b[38;5;124m\"\u001b[39m\u001b[38;5;124mstates\u001b[39m\u001b[38;5;124m\"\u001b[39m: \u001b[38;5;28mself\u001b[39m\u001b[38;5;241m.\u001b[39m_state_preprocessor(states)}, role\u001b[38;5;241m=\u001b[39m\u001b[38;5;124m\"\u001b[39m\u001b[38;5;124mpolicy\u001b[39m\u001b[38;5;124m\"\u001b[39m)\n\u001b[1;32m    202\u001b[0m \u001b[38;5;66;03m# sample deterministic actions\u001b[39;00m\n\u001b[0;32m--> 203\u001b[0m actions, _, outputs \u001b[38;5;241m=\u001b[39m \u001b[38;5;28;43mself\u001b[39;49m\u001b[38;5;241;43m.\u001b[39;49m\u001b[43mpolicy\u001b[49m\u001b[38;5;241;43m.\u001b[39;49m\u001b[43mact\u001b[49m\u001b[43m(\u001b[49m\u001b[43m{\u001b[49m\u001b[38;5;124;43m\"\u001b[39;49m\u001b[38;5;124;43mstates\u001b[39;49m\u001b[38;5;124;43m\"\u001b[39;49m\u001b[43m:\u001b[49m\u001b[43m \u001b[49m\u001b[38;5;28;43mself\u001b[39;49m\u001b[38;5;241;43m.\u001b[39;49m\u001b[43m_state_preprocessor\u001b[49m\u001b[43m(\u001b[49m\u001b[43mstates\u001b[49m\u001b[43m)\u001b[49m\u001b[43m}\u001b[49m\u001b[43m,\u001b[49m\u001b[43m \u001b[49m\u001b[43mrole\u001b[49m\u001b[38;5;241;43m=\u001b[39;49m\u001b[38;5;124;43m\"\u001b[39;49m\u001b[38;5;124;43mpolicy\u001b[39;49m\u001b[38;5;124;43m\"\u001b[39;49m\u001b[43m)\u001b[49m\n\u001b[1;32m    205\u001b[0m \u001b[38;5;66;03m# add exloration noise\u001b[39;00m\n\u001b[1;32m    206\u001b[0m \u001b[38;5;28;01mif\u001b[39;00m \u001b[38;5;28mself\u001b[39m\u001b[38;5;241m.\u001b[39m_exploration_noise \u001b[38;5;129;01mis\u001b[39;00m \u001b[38;5;129;01mnot\u001b[39;00m \u001b[38;5;28;01mNone\u001b[39;00m:\n\u001b[1;32m    207\u001b[0m     \u001b[38;5;66;03m# sample noises\u001b[39;00m\n",
      "File \u001b[0;32m~/opt/anaconda3/lib/python3.9/site-packages/skrl/models/torch/deterministic.py:86\u001b[0m, in \u001b[0;36mDeterministicMixin.act\u001b[0;34m(self, inputs, role)\u001b[0m\n\u001b[1;32m     64\u001b[0m \u001b[38;5;124;03m\"\"\"Act deterministically in response to the state of the environment\u001b[39;00m\n\u001b[1;32m     65\u001b[0m \n\u001b[1;32m     66\u001b[0m \u001b[38;5;124;03m:param inputs: Model inputs. The most common keys are:\u001b[39;00m\n\u001b[0;32m   (...)\u001b[0m\n\u001b[1;32m     83\u001b[0m \u001b[38;5;124;03m    torch.Size([4096, 1]) {}\u001b[39;00m\n\u001b[1;32m     84\u001b[0m \u001b[38;5;124;03m\"\"\"\u001b[39;00m\n\u001b[1;32m     85\u001b[0m \u001b[38;5;66;03m# map from observations/states to actions\u001b[39;00m\n\u001b[0;32m---> 86\u001b[0m actions, outputs \u001b[38;5;241m=\u001b[39m \u001b[38;5;28;43mself\u001b[39;49m\u001b[38;5;241;43m.\u001b[39;49m\u001b[43mcompute\u001b[49m\u001b[43m(\u001b[49m\u001b[43minputs\u001b[49m\u001b[43m,\u001b[49m\u001b[43m \u001b[49m\u001b[43mrole\u001b[49m\u001b[43m)\u001b[49m\n\u001b[1;32m     88\u001b[0m \u001b[38;5;66;03m# clip actions\u001b[39;00m\n\u001b[1;32m     89\u001b[0m \u001b[38;5;28;01mif\u001b[39;00m \u001b[38;5;28mself\u001b[39m\u001b[38;5;241m.\u001b[39m_clip_actions:\n",
      "Input \u001b[0;32mIn [11]\u001b[0m, in \u001b[0;36mDeterministicCritic.compute\u001b[0;34m(self, inputs, role)\u001b[0m\n\u001b[1;32m     10\u001b[0m \u001b[38;5;28;01mdef\u001b[39;00m \u001b[38;5;21mcompute\u001b[39m(\u001b[38;5;28mself\u001b[39m, inputs, role):\n\u001b[0;32m---> 11\u001b[0m     x \u001b[38;5;241m=\u001b[39m nn\u001b[38;5;241m.\u001b[39mfunctional\u001b[38;5;241m.\u001b[39mrelu(\u001b[38;5;28mself\u001b[39m\u001b[38;5;241m.\u001b[39mlinear_layer_1(torch\u001b[38;5;241m.\u001b[39mcat([inputs[\u001b[38;5;124m\"\u001b[39m\u001b[38;5;124mstates\u001b[39m\u001b[38;5;124m\"\u001b[39m], \u001b[43minputs\u001b[49m\u001b[43m[\u001b[49m\u001b[38;5;124;43m\"\u001b[39;49m\u001b[38;5;124;43mtaken_action\u001b[39;49m\u001b[38;5;124;43m\"\u001b[39;49m\u001b[43m]\u001b[49m], dim\u001b[38;5;241m=\u001b[39m\u001b[38;5;241m1\u001b[39m)))\n\u001b[1;32m     12\u001b[0m     x \u001b[38;5;241m=\u001b[39m nn\u001b[38;5;241m.\u001b[39mfunctional\u001b[38;5;241m.\u001b[39mrelu(\u001b[38;5;28mself\u001b[39m\u001b[38;5;241m.\u001b[39mlinear_layer_2(x))\n\u001b[1;32m     13\u001b[0m     \u001b[38;5;28;01mreturn\u001b[39;00m \u001b[38;5;28mself\u001b[39m\u001b[38;5;241m.\u001b[39mlinear_layer_3(x), {}\n",
      "\u001b[0;31mKeyError\u001b[0m: 'taken_action'"
     ]
    }
   ],
   "source": [
    "num_episodes = 1000  # Set the number of episodes for training\n",
    "for episode in range(num_episodes):\n",
    "    obs = env.reset()\n",
    "    done = False\n",
    "    episode_reward = 0\n",
    "    timestep = 0 \n",
    "    while not done:\n",
    "        action = agent.act(obs, timestep, num_episodes)\n",
    "        next_obs, reward, done, _ = env.step(action)\n",
    "        episode_reward += reward\n",
    "        agent.replay_buffer.push(obs, action, reward, next_obs, done)\n",
    "        obs = next_obs\n",
    "        agent.update()\n",
    "        timestep += timestep\n",
    "    print(f\"Episode {episode + 1}: Total Reward: {episode_reward}\")"
   ]
  },
  {
   "cell_type": "code",
   "execution_count": 19,
   "metadata": {},
   "outputs": [
    {
     "data": {
      "text/plain": [
       "((20, 10, 0), {})"
      ]
     },
     "execution_count": 19,
     "metadata": {},
     "output_type": "execute_result"
    }
   ],
   "source": [
    "env.reset()"
   ]
  },
  {
   "cell_type": "code",
   "execution_count": null,
   "metadata": {},
   "outputs": [],
   "source": []
  }
 ],
 "metadata": {
  "kernelspec": {
   "display_name": "Python 3",
   "language": "python",
   "name": "python3"
  },
  "language_info": {
   "codemirror_mode": {
    "name": "ipython",
    "version": 3
   },
   "file_extension": ".py",
   "mimetype": "text/x-python",
   "name": "python",
   "nbconvert_exporter": "python",
   "pygments_lexer": "ipython3",
   "version": "3.9.12"
  }
 },
 "nbformat": 4,
 "nbformat_minor": 2
}
