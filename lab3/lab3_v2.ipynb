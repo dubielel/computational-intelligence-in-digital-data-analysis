{
 "cells": [
  {
   "cell_type": "code",
   "execution_count": 1,
   "metadata": {
    "collapsed": false,
    "ExecuteTime": {
     "end_time": "2024-04-14T18:45:11.311693Z",
     "start_time": "2024-04-14T18:45:11.268085Z"
    }
   },
   "outputs": [],
   "source": [
    "from __future__ import annotations\n",
    "\n",
    "from collections import defaultdict\n",
    "\n",
    "import matplotlib.pyplot as plt\n",
    "import numpy as np\n",
    "import seaborn as sns\n",
    "from matplotlib.patches import Patch\n",
    "from tqdm import tqdm\n",
    "from pprint import pprint\n",
    "\n",
    "import gymnasium as gym"
   ]
  },
  {
   "cell_type": "markdown",
   "source": [
    "# Postawy Gymnasium - Sprawozdanie\n",
    "## Kacper Cienkosz, Miłosz Dubiel"
   ],
   "metadata": {
    "collapsed": false
   }
  },
  {
   "cell_type": "markdown",
   "source": [
    "Do wykonania uczenia ze wzmocnieniem wybraliśmy środowisko Blackjack oparte na zasadach Suttona & Barto.\n",
    "Nie będziemy tutaj przywoływać zasad Blackjacka, odsyłamy do [Wikipedii](https://pl.wikipedia.org/wiki/Blackjack) oraz [dokumentacji Gymnasium](https://gymnasium.farama.org/environments/toy_text/blackjack/) gdzie znajdują się sekcje tłumaczące te zasady."
   ],
   "metadata": {
    "collapsed": false
   }
  },
  {
   "cell_type": "code",
   "outputs": [],
   "source": [
    "env = gym.make(\"Blackjack-v1\", sab=True)"
   ],
   "metadata": {
    "ExecuteTime": {
     "end_time": "2024-04-14T18:45:11.336414Z",
     "start_time": "2024-04-14T18:45:11.332101Z"
    }
   },
   "execution_count": 2
  },
  {
   "cell_type": "markdown",
   "source": [
    "# Proces ewaluacji podejmowanych akcji\n",
    "Dla naszego środowiska postanowiliśmy wykorzystać algorytm **Q-learning**"
   ],
   "metadata": {
    "collapsed": false
   }
  },
  {
   "cell_type": "markdown",
   "source": [
    "## Q-learning\n",
    "\n",
    "Algorytm **Q-learning** nie jest algorytmem opartym na całym modelu środowiska (jest *model-free*), co oznacza, że do ewaluacji stanów korzysta z metod różnic tymczasowych (*temporal difference*) i wymaga tylko informacji o stanach środowiska, bez informacji o przejściach pomiędzy nimi.\n",
    "\n",
    "Strategia wyboru kolejnej akcji w algorytmie **Q-learning** opiera się na tzw. metodzie *ε-greedy*. Polega to na możliwości wyboru najlepszej możliwej akcji z możliwych (zachłannie) z prawdopodobieństwem `1 - ε` lub losowej możliwej akcji z prawdopodobieństwem `ε`. Dzięki temu można zbilansować naukę agenta ze względu na eksploatację najlepszej w danym momencie ścieżki i eksplorację innych możliwych rozwiązań.\n",
    "\n",
    "W **Q-learning** wybór akcji następuje poprzez ewaluację stanu następującego po wybranej zachłannie akcji. Najpierw następuje określenie, czy wykonana akcja nie kończy procesu (w tym wypadku gry) - wtedy wartość **Q** dla następnej akcji jest zerowa.\n",
    "\n",
    "Wyliczenie nowej wartości **Q** dla wykonanej akcji następuje zgodnie ze wzorem:\n",
    "$$\n",
    "    Q(state_t, action_t) = Q(state_t, action_t) + learning\\_rate(reward + discount\\_factor * max_{action}(Q(state_{t+1}, action)) - Q(state_t, action_t))\n",
    "$$\n",
    "\n",
    "W przypadku poniższego kodu sprowadza się to do tego, że:\n",
    "  - `future_q_value` := $max_{action}(Q(state_{t+1}, action)$ jeżeli stan nie jest `terminated`, w przeciwnym wypadku $0$\n",
    "  - `temporal_difference` := $reward + discount\\_factor *$ `future_q_value`  $- Q(state_t, action_t)$\n",
    "I ostatecznie:\n",
    "  - $Q(state_t, action_t) = Q(state_t, action_t) + learning\\_rate * $ `temporal_difference`\n",
    "\n",
    "$max_{action}(Q(state_{t+1}, action)$ wprowadza nam pewność, że wybierzemy najlepszą możliwą do wykonania akcję w następnym kroku działania agenta.\n",
    "\n",
    "Źródło: [SKN main Łódź](https://main.p.lodz.pl/news.php?id=124)"
   ],
   "metadata": {
    "collapsed": false
   }
  },
  {
   "cell_type": "markdown",
   "source": [
    "W celu ustrukturyzowania procesu uczenia stworzony został `BlackjackAgent`, który pozwala nadać strukturę kolejnym krokom poprzez wykorzystanie odpowiednich metod, tj. inicjalizacji z wymaganymi hiperparametrami, przeliczenie następnej akcji do wykonania (z wprowadzeniem elementu probabilistycznego w celu poznania środowiska), wyznaczeniu wartości funkcji **Q** w celu ewaluacji wykonanej akcji oraz dokonanie zmniejszenia epsilonu."
   ],
   "metadata": {
    "collapsed": false
   }
  },
  {
   "cell_type": "code",
   "execution_count": 3,
   "metadata": {
    "ExecuteTime": {
     "end_time": "2024-04-14T18:45:11.341806Z",
     "start_time": "2024-04-14T18:45:11.337839Z"
    }
   },
   "outputs": [],
   "source": [
    "class BlackjackAgent:\n",
    "    def __init__(\n",
    "        self,\n",
    "        learning_rate: float,\n",
    "        initial_epsilon: float,\n",
    "        epsilon_decay: float,\n",
    "        final_epsilon: float,\n",
    "        discount_factor: float = 0.95,\n",
    "    ):\n",
    "        \"\"\"Initialize a Reinforcement Learning agent with an empty dictionary\n",
    "        of state-action values (q_values), a learning rate and an epsilon.\n",
    "\n",
    "        Args:\n",
    "            learning_rate: The learning rate\n",
    "            initial_epsilon: The initial epsilon value\n",
    "            epsilon_decay: The decay for epsilon\n",
    "            final_epsilon: The final epsilon value\n",
    "            discount_factor: The discount factor for computing the Q-value\n",
    "        \"\"\"\n",
    "        self.q_values = defaultdict(lambda: np.zeros(env.action_space.n))\n",
    "\n",
    "        self.lr = learning_rate\n",
    "        self.discount_factor = discount_factor\n",
    "\n",
    "        self.epsilon = initial_epsilon\n",
    "        self.epsilon_decay = epsilon_decay\n",
    "        self.final_epsilon = final_epsilon\n",
    "\n",
    "        self.training_error = []\n",
    "\n",
    "    def get_action(self, obs: tuple[int, int, bool]) -> int:\n",
    "        \"\"\"\n",
    "        Returns the best action with probability (1 - epsilon)\n",
    "        otherwise a random action with probability epsilon to ensure exploration.\n",
    "        \"\"\"\n",
    "        # with probability epsilon return a random action to explore the environment\n",
    "        if np.random.random() < self.epsilon:\n",
    "            return env.action_space.sample()\n",
    "\n",
    "        # with probability (1 - epsilon) act greedily (exploit)\n",
    "        else:\n",
    "            return int(np.argmax(self.q_values[obs]))\n",
    "\n",
    "    def update(\n",
    "        self,\n",
    "        obs: tuple[int, int, bool],\n",
    "        action: int,\n",
    "        reward: float,\n",
    "        terminated: bool,\n",
    "        next_obs: tuple[int, int, bool],\n",
    "    ):\n",
    "        \"\"\"Updates the Q-value of an action.\"\"\"\n",
    "        future_q_value = (not terminated) * np.max(self.q_values[next_obs])\n",
    "        temporal_difference = (\n",
    "            reward + self.discount_factor * future_q_value - self.q_values[obs][action]\n",
    "        )\n",
    "\n",
    "        self.q_values[obs][action] = (\n",
    "            self.q_values[obs][action] + self.lr * temporal_difference\n",
    "        )\n",
    "        self.training_error.append(temporal_difference)\n",
    "\n",
    "    def decay_epsilon(self):\n",
    "        self.epsilon = max(self.final_epsilon, self.epsilon - self.epsilon_decay)"
   ]
  },
  {
   "cell_type": "markdown",
   "source": [
    "# Proces uczenia"
   ],
   "metadata": {
    "collapsed": false
   }
  },
  {
   "cell_type": "markdown",
   "source": [
    "Na początku standardowo należy dobrać hiperparametry modelu. W przypadku naszego środowiska i agenta do Blackjacka musieliśmy dobrać:\n",
    "  - `learning_rate`\n",
    "  - `n_episodes` - liczbę epizodów do przeprowadzenia uczenia\n",
    "  - `start_epsilon`\n",
    "  - `epsilon_decay`\n",
    "  - `final_epsilon`\n",
    "  - `discount_factor = 0.9` - zgodnie z założeniami zadania"
   ],
   "metadata": {
    "collapsed": false
   }
  },
  {
   "cell_type": "code",
   "execution_count": 4,
   "metadata": {
    "ExecuteTime": {
     "end_time": "2024-04-14T18:45:11.343864Z",
     "start_time": "2024-04-14T18:45:11.342419Z"
    }
   },
   "outputs": [],
   "source": [
    "learning_rate = 0.001\n",
    "n_episodes = 1_000_000\n",
    "start_epsilon = 1.0\n",
    "epsilon_decay = start_epsilon / (n_episodes / 2) \n",
    "final_epsilon = 0.1\n",
    "\n",
    "discount_factor = 0.9\n",
    "\n",
    "agent = BlackjackAgent(\n",
    "    learning_rate=learning_rate,\n",
    "    initial_epsilon=start_epsilon,\n",
    "    epsilon_decay=epsilon_decay,\n",
    "    final_epsilon=final_epsilon,\n",
    "    discount_factor=discount_factor\n",
    ")"
   ]
  },
  {
   "cell_type": "markdown",
   "source": [
    "Sam proces uczenia przebiega w następujący sposób:\n",
    "  - dla każdego epizodu środowisko musi zostać zresetowane (inaczej stan środowiska będzie wskazywał poprzednią rozgrywkę)\n",
    "  - dopóki gra nie zostanie zakończona:\n",
    "     - agent wybiera akcję na podstawie aktualnego stanu środowiska\n",
    "     - wykonywana jest wybrana akcja (`env.step(action)`)\n",
    "     - agent aktualizuje swoje zachowania na podstawie stanu po wykonanej akcji\n",
    "     - następuje przypisanie nowego stanu do aktualnego\n",
    "  - przed każdym kolejnym epizodem następuje zmniejszenie epsilonu agenta (`agent.decay_epsilon()`)"
   ],
   "metadata": {
    "collapsed": false
   }
  },
  {
   "cell_type": "code",
   "execution_count": 5,
   "metadata": {
    "ExecuteTime": {
     "end_time": "2024-04-14T18:46:15.891957Z",
     "start_time": "2024-04-14T18:45:11.344829Z"
    }
   },
   "outputs": [
    {
     "name": "stderr",
     "output_type": "stream",
     "text": [
      "100%|██████████| 1000000/1000000 [01:04<00:00, 15494.79it/s]\n"
     ]
    }
   ],
   "source": [
    "env = gym.wrappers.RecordEpisodeStatistics(env, deque_size=n_episodes)\n",
    "for episode in tqdm(range(n_episodes)):\n",
    "    obs, info = env.reset()\n",
    "    done = False\n",
    "\n",
    "    while not done:\n",
    "        action = agent.get_action(obs)\n",
    "        next_obs, reward, terminated, truncated, info = env.step(action)\n",
    "        agent.update(obs, action, reward, terminated, next_obs)\n",
    "        done = terminated or truncated\n",
    "        obs = next_obs\n",
    "\n",
    "    agent.decay_epsilon()"
   ]
  },
  {
   "cell_type": "markdown",
   "source": [
    "# Wyniki uczenia"
   ],
   "metadata": {
    "collapsed": false
   }
  },
  {
   "cell_type": "markdown",
   "source": [
    "Poniżej został zaprezentowany wykres błędu uczenia w kolejnych epizodach w postaci średniej kroczącej jak i wygładzonej średniej kroczącej. Można zauważyć, że model osiągnął błąd zbliżony do 0."
   ],
   "metadata": {
    "collapsed": false
   }
  },
  {
   "cell_type": "code",
   "execution_count": 6,
   "metadata": {
    "ExecuteTime": {
     "end_time": "2024-04-14T18:46:28.257925Z",
     "start_time": "2024-04-14T18:46:15.892796Z"
    }
   },
   "outputs": [
    {
     "data": {
      "text/plain": "<Figure size 640x480 with 1 Axes>",
      "image/png": "[encoded data removed]"
     },
     "metadata": {},
     "output_type": "display_data"
    }
   ],
   "source": [
    "plt.title(\"Training Error\")\n",
    "training_error_moving_average = (\n",
    "    np.convolve(np.array(agent.training_error), np.ones(1250), mode=\"same\") / 250\n",
    ")\n",
    "plt.plot(training_error_moving_average)\n",
    "plt.rcParams[\"figure.figsize\"] = (20,8)\n",
    "training_error_moving_average_smooth = (\n",
    "    np.convolve(np.array(agent.training_error), np.ones(10000), mode=\"same\") / 2500\n",
    ")\n",
    "plt.plot(training_error_moving_average_smooth, 'r')\n",
    "plt.show()"
   ]
  },
  {
   "cell_type": "markdown",
   "metadata": {},
   "source": [
    "### Zobrazowanie polityki modelu"
   ]
  },
  {
   "cell_type": "markdown",
   "source": [
    "Na podstawie wyznaczonych w procesie uczenia **Q** wartości jesteśmy w stanie wyznaczyć, z jaką polityką agent będzie reagował na dany stan rozgrywki."
   ],
   "metadata": {
    "collapsed": false
   }
  },
  {
   "cell_type": "code",
   "execution_count": 7,
   "metadata": {
    "ExecuteTime": {
     "end_time": "2024-04-14T18:46:28.365624Z",
     "start_time": "2024-04-14T18:46:28.258582Z"
    }
   },
   "outputs": [
    {
     "data": {
      "text/plain": "<Figure size 800x800 with 1 Axes>",
      "image/png": "[encoded data removed]"
     },
     "metadata": {},
     "output_type": "display_data"
    }
   ],
   "source": [
    "state_value = defaultdict(float)\n",
    "policy = defaultdict(int)\n",
    "for obs, action_values in agent.q_values.items():\n",
    "    state_value[obs] = float(np.max(action_values))\n",
    "    policy[obs] = int(np.argmax(action_values))\n",
    "\n",
    "player_count, dealer_count = np.meshgrid(np.arange(12, 22), np.arange(1, 11))\n",
    "\n",
    "policy_grid = np.apply_along_axis(\n",
    "    lambda obs: policy[(obs[0], obs[1], True)],\n",
    "    axis=2,\n",
    "    arr=np.dstack([player_count, dealer_count]),\n",
    ")\n",
    "policy_grid_str = []\n",
    "for row in policy_grid:\n",
    "    policy_grid_str.append([])\n",
    "    for value in row:\n",
    "        policy_grid_str[-1].append(\"H\" if value else \"S\")\n",
    "    \n",
    "fig = plt.figure(figsize=(8, 8))\n",
    "fig.suptitle(\"Policy\", fontsize=16)\n",
    "    \n",
    "fig.add_subplot(1, 1, 1)\n",
    "ax = sns.heatmap(policy_grid, annot=np.array(policy_grid_str), fmt=\"\", cmap=\"Accent_r\", cbar=False)\n",
    "ax.set_xlabel(\"Player sum\")\n",
    "ax.set_ylabel(\"Dealer showing\")\n",
    "ax.set_xticklabels(range(12, 22))\n",
    "ax.set_yticklabels([\"A\"] + list(range(2, 11)), fontsize=12)\n",
    "\n",
    "legend_elements = [\n",
    "    Patch(facecolor=\"lightgreen\", edgecolor=\"black\", label=\"Hit\"),\n",
    "    Patch(facecolor=\"grey\", edgecolor=\"black\", label=\"Stick\"),\n",
    "]\n",
    "ax.legend(handles=legend_elements, bbox_to_anchor=(1.15 , 1))\n",
    "   \n",
    "plt.show()"
   ]
  },
  {
   "cell_type": "markdown",
   "source": [
    "Jak widać na powyższym diagramie, gdy suma kart agenta jest mniejsza lub równa 17, to agent pociągnie kolejną kartę, oprócz sytuacji, gdy suma kart agenta wynosi 15, a dealer ma asa, gdy suma kart agenta wynosi 16, a dealera 8 lub gdy suma kart agenta wynosi 17, a dealer ma asa. \n",
    "\n",
    "Dodatkowo pociągnięcie kolejnej karty ma również miejsce w dwóch sytuacjach: gdy suma kart agenta wynosi 18, a suma kart dealera wynosi 10 lub 9. \n",
    "\n",
    "W pozostałych przypadkach agent zostanie przy aktualnie posiadanym rozdaniu i nie pociągnie kolejnej karty."
   ],
   "metadata": {
    "collapsed": false
   }
  },
  {
   "cell_type": "markdown",
   "source": [
    "# Wizualizacja rozgrywki"
   ],
   "metadata": {
    "collapsed": false
   }
  },
  {
   "cell_type": "markdown",
   "source": [
    "Tworzymy nowe środowisko testowe, które będzie służyło do wizualizacji rozgrywki. Dodatkowo tworzymy listę wyników z odbytych gier."
   ],
   "metadata": {
    "collapsed": false
   }
  },
  {
   "cell_type": "code",
   "outputs": [
    {
     "name": "stderr",
     "output_type": "stream",
     "text": [
      "100%|██████████| 100/100 [01:03<00:00,  1.58it/s]"
     ]
    },
    {
     "name": "stdout",
     "output_type": "stream",
     "text": [
      "['Episode 1: Agent sum: 20 | Dealer showing: 8, Agent wins',\n",
      " 'Episode 2: Agent sum: 24 | Dealer showing: 9, Agent busts',\n",
      " 'Episode 3: Agent sum: 24 | Dealer showing: 10, Agent busts',\n",
      " 'Episode 4: Agent sum: 17 | Dealer showing: 7, Agent wins',\n",
      " 'Episode 5: Agent sum: 21 | Dealer showing: 8, Agent wins',\n",
      " 'Episode 6: Agent sum: 19 | Dealer showing: 10, Agent wins',\n",
      " 'Episode 7: Agent sum: 16 | Dealer showing: 6, Agent wins',\n",
      " 'Episode 8: Agent sum: 17 | Dealer showing: 5, Agent wins',\n",
      " 'Episode 9: Agent sum: 17 | Dealer showing: 10, Agent wins',\n",
      " 'Episode 10: Agent sum: 24 | Dealer showing: 10, Agent busts',\n",
      " 'Episode 11: Agent sum: 15 | Dealer showing: 2, Agent wins',\n",
      " 'Episode 12: Agent sum: 20 | Dealer showing: 5, Agent wins',\n",
      " 'Episode 13: Agent sum: 12 | Dealer showing: 10, Agent wins',\n",
      " 'Episode 14: Agent sum: 19 | Dealer showing: 8, Agent wins',\n",
      " 'Episode 15: Agent sum: 24 | Dealer showing: 7, Agent busts',\n",
      " 'Episode 16: Agent sum: 21 | Dealer showing: 5, Agent wins',\n",
      " 'Episode 17: Agent sum: 14 | Dealer showing: 2, Agent wins',\n",
      " 'Episode 18: Agent sum: 20 | Dealer showing: 10, Agent wins',\n",
      " 'Episode 19: Agent sum: 14 | Dealer showing: 10, Agent wins',\n",
      " 'Episode 20: Agent sum: 15 | Dealer showing: 3, Agent wins',\n",
      " 'Episode 21: Agent sum: 18 | Dealer showing: 10, Agent wins',\n",
      " 'Episode 22: Agent sum: 17 | Dealer showing: 1, Agent wins',\n",
      " 'Episode 23: Agent sum: 27 | Dealer showing: 9, Agent busts',\n",
      " 'Episode 24: Agent sum: 22 | Dealer showing: 8, Agent busts',\n",
      " 'Episode 25: Agent sum: 15 | Dealer showing: 3, Agent wins',\n",
      " 'Episode 26: Agent sum: 18 | Dealer showing: 10, Agent wins',\n",
      " 'Episode 27: Agent sum: 15 | Dealer showing: 7, Agent wins',\n",
      " 'Episode 28: Agent sum: 18 | Dealer showing: 10, Agent wins',\n",
      " 'Episode 29: Agent sum: 17 | Dealer showing: 1, Agent wins',\n",
      " 'Episode 30: Agent sum: 19 | Dealer showing: 3, Agent wins',\n",
      " 'Episode 31: Agent sum: 19 | Dealer showing: 6, Agent wins',\n",
      " 'Episode 32: Agent sum: 21 | Dealer showing: 1, Agent wins',\n",
      " 'Episode 33: Agent sum: 14 | Dealer showing: 4, Agent wins',\n",
      " 'Episode 34: Agent sum: 13 | Dealer showing: 5, Agent wins',\n",
      " 'Episode 35: Agent sum: 20 | Dealer showing: 1, Agent wins',\n",
      " 'Episode 36: Agent sum: 16 | Dealer showing: 4, Agent wins',\n",
      " 'Episode 37: Agent sum: 19 | Dealer showing: 10, Agent wins',\n",
      " 'Episode 38: Agent sum: 23 | Dealer showing: 10, Agent busts',\n",
      " 'Episode 39: Agent sum: 17 | Dealer showing: 9, Agent wins',\n",
      " 'Episode 40: Agent sum: 20 | Dealer showing: 10, Agent wins',\n",
      " 'Episode 41: Agent sum: 20 | Dealer showing: 10, Agent wins',\n",
      " 'Episode 42: Agent sum: 20 | Dealer showing: 10, Agent wins',\n",
      " 'Episode 43: Agent sum: 18 | Dealer showing: 6, Agent wins',\n",
      " 'Episode 44: Agent sum: 20 | Dealer showing: 9, Agent wins',\n",
      " 'Episode 45: Agent sum: 17 | Dealer showing: 10, Agent wins',\n",
      " 'Episode 46: Agent sum: 21 | Dealer showing: 9, Agent wins',\n",
      " 'Episode 47: Agent sum: 21 | Dealer showing: 10, Agent wins',\n",
      " 'Episode 48: Agent sum: 24 | Dealer showing: 9, Agent busts',\n",
      " 'Episode 49: Agent sum: 14 | Dealer showing: 3, Agent wins',\n",
      " 'Episode 50: Agent sum: 17 | Dealer showing: 6, Agent wins',\n",
      " 'Episode 51: Agent sum: 26 | Dealer showing: 1, Agent busts',\n",
      " 'Episode 52: Agent sum: 15 | Dealer showing: 2, Agent wins',\n",
      " 'Episode 53: Agent sum: 14 | Dealer showing: 4, Agent wins',\n",
      " 'Episode 54: Agent sum: 24 | Dealer showing: 8, Agent busts',\n",
      " 'Episode 55: Agent sum: 16 | Dealer showing: 2, Agent wins',\n",
      " 'Episode 56: Agent sum: 15 | Dealer showing: 5, Agent wins',\n",
      " 'Episode 57: Agent sum: 19 | Dealer showing: 5, Agent wins',\n",
      " 'Episode 58: Agent sum: 17 | Dealer showing: 2, Agent wins',\n",
      " 'Episode 59: Agent sum: 18 | Dealer showing: 1, Agent wins',\n",
      " 'Episode 60: Agent sum: 18 | Dealer showing: 2, Agent wins',\n",
      " 'Episode 61: Agent sum: 12 | Dealer showing: 5, Agent wins',\n",
      " 'Episode 62: Agent sum: 18 | Dealer showing: 10, Agent wins',\n",
      " 'Episode 63: Agent sum: 9 | Dealer showing: 9, Agent wins',\n",
      " 'Episode 64: Agent sum: 16 | Dealer showing: 2, Agent wins',\n",
      " 'Episode 65: Agent sum: 13 | Dealer showing: 5, Agent wins',\n",
      " 'Episode 66: Agent sum: 18 | Dealer showing: 10, Agent wins',\n",
      " 'Episode 67: Agent sum: 18 | Dealer showing: 8, Agent wins',\n",
      " 'Episode 68: Agent sum: 21 | Dealer showing: 8, Agent wins',\n",
      " 'Episode 69: Agent sum: 18 | Dealer showing: 10, Agent wins',\n",
      " 'Episode 70: Agent sum: 20 | Dealer showing: 2, Agent wins',\n",
      " 'Episode 71: Agent sum: 19 | Dealer showing: 7, Agent wins',\n",
      " 'Episode 72: Agent sum: 19 | Dealer showing: 7, Agent wins',\n",
      " 'Episode 73: Agent sum: 17 | Dealer showing: 4, Agent wins',\n",
      " 'Episode 74: Agent sum: 17 | Dealer showing: 5, Agent wins',\n",
      " 'Episode 75: Agent sum: 4 | Dealer showing: 8, Dealer wins',\n",
      " 'Episode 76: Agent sum: 20 | Dealer showing: 5, Agent wins',\n",
      " 'Episode 77: Agent sum: 21 | Dealer showing: 8, Agent wins',\n",
      " 'Episode 78: Agent sum: 29 | Dealer showing: 9, Agent busts',\n",
      " 'Episode 79: Agent sum: 18 | Dealer showing: 10, Agent wins',\n",
      " 'Episode 80: Agent sum: 14 | Dealer showing: 2, Agent wins',\n",
      " 'Episode 81: Agent sum: 20 | Dealer showing: 1, Agent wins',\n",
      " 'Episode 82: Agent sum: 20 | Dealer showing: 10, Agent wins',\n",
      " 'Episode 83: Agent sum: 23 | Dealer showing: 2, Agent busts',\n",
      " 'Episode 84: Agent sum: 20 | Dealer showing: 10, Agent wins',\n",
      " 'Episode 85: Agent sum: 17 | Dealer showing: 10, Agent wins',\n",
      " 'Episode 86: Agent sum: 19 | Dealer showing: 10, Agent wins',\n",
      " 'Episode 87: Agent sum: 19 | Dealer showing: 10, Agent wins',\n",
      " 'Episode 88: Agent sum: 20 | Dealer showing: 2, Agent wins',\n",
      " 'Episode 89: Agent sum: 19 | Dealer showing: 10, Agent wins',\n",
      " 'Episode 90: Agent sum: 22 | Dealer showing: 10, Agent busts',\n",
      " 'Episode 91: Agent sum: 22 | Dealer showing: 7, Agent busts',\n",
      " 'Episode 92: Agent sum: 20 | Dealer showing: 4, Agent wins',\n",
      " 'Episode 93: Agent sum: 17 | Dealer showing: 1, Agent wins',\n",
      " 'Episode 94: Agent sum: 19 | Dealer showing: 2, Agent wins',\n",
      " 'Episode 95: Agent sum: 14 | Dealer showing: 2, Agent wins',\n",
      " 'Episode 96: Agent sum: 19 | Dealer showing: 1, Agent wins',\n",
      " 'Episode 97: Agent sum: 17 | Dealer showing: 3, Agent wins',\n",
      " 'Episode 98: Agent sum: 20 | Dealer showing: 2, Agent wins',\n",
      " 'Episode 99: Agent sum: 21 | Dealer showing: 10, Agent wins',\n",
      " 'Episode 100: Agent sum: 20 | Dealer showing: 1, Agent wins']\n"
     ]
    },
    {
     "name": "stderr",
     "output_type": "stream",
     "text": [
      "\n"
     ]
    }
   ],
   "source": [
    "test_env = gym.make(\"Blackjack-v1\", sab=True, render_mode='human')\n",
    "num_test_episodes = 100\n",
    "\n",
    "DISPLAY_EPISODE_RESULTS = False\n",
    "\n",
    "episode_results = []\n",
    "\n",
    "for episode in tqdm(range(num_test_episodes)):\n",
    "    obs, _ = test_env.reset()\n",
    "    done = False\n",
    "\n",
    "    while not done:\n",
    "        action = agent.get_action(obs)\n",
    "        next_obs, reward, terminated, truncated, _ = test_env.step(action)\n",
    "        done = terminated or truncated\n",
    "        obs = next_obs\n",
    "        \n",
    "        if done:\n",
    "            episode_result = f\"Episode {episode + 1}: Agent sum: {obs[0]} | Dealer showing: {obs[1]}, {'Dealer wins' if 21 >= obs[1] > obs[0] else ('Agent wins' if obs[0] <= 21 else 'Agent busts')}\"\n",
    "            episode_results.append(episode_result)\n",
    "            \n",
    "            if DISPLAY_EPISODE_RESULTS:\n",
    "                print(episode_result)\n",
    "    \n",
    "        # This method is commented out because as far as I'm concerned env renders itself automatically when render_mode is set \n",
    "        # test_env.render()\n",
    "\n",
    "if not DISPLAY_EPISODE_RESULTS:\n",
    "    pprint(episode_results)"
   ],
   "metadata": {
    "collapsed": false,
    "ExecuteTime": {
     "end_time": "2024-04-14T18:47:31.729093Z",
     "start_time": "2024-04-14T18:46:28.366299Z"
    }
   },
   "execution_count": 8
  }
 ],
 "metadata": {
  "kernelspec": {
   "display_name": "base",
   "language": "python",
   "name": "python3"
  },
  "language_info": {
   "codemirror_mode": {
    "name": "ipython",
    "version": 3
   },
   "file_extension": ".py",
   "mimetype": "text/x-python",
   "name": "python",
   "nbconvert_exporter": "python",
   "pygments_lexer": "ipython3",
   "version": "3.9.12"
  }
 },
 "nbformat": 4,
 "nbformat_minor": 2
}
